{
 "cells": [
  {
   "cell_type": "markdown",
   "metadata": {},
   "source": [
    "# Loop in computed FEFF Spectra / Determine which remain to be computed\n",
    "## This is one of the most important steps.\n",
    "\n",
    "## Goals: \n",
    "- Incorporate the already-computed FEFF spectra \n",
    "- Print which structures are still missing spectra\n",
    "- Write X,Y pairs of Spectra-Properties (Coordination #, Bader Chg)\n",
    "\n",
    "NOTE: There are a few points in this document where fine-tuning by eye has to be performed, including when pruning identical spectra, deciding what Bader charge difference is acceptable between different atoms of the same element, and when determining the cutoff minima or exclusion zones for the spectra. Please proceed with great caution through this notebook.\n",
    "\n",
    "## Inputs: \n",
    "- {}\\_{}\\_MP\\_OQMD\\_combined_collations.json : The collatoins of all MP structures + spectra and OQMD structures (no spectra).\n",
    "- feff\\_prod\\_image.json : Production image of FEFF spectra from Amazon AWS.\n",
    "\n",
    "## Outputs: \n",
    "- {}\\_{}\\_XY.json : Json objects  decorated with relevant properties."
   ]
  },
  {
   "cell_type": "code",
   "execution_count": 3,
   "metadata": {
    "ExecuteTime": {
     "end_time": "2019-08-21T05:25:05.201439Z",
     "start_time": "2019-08-21T05:25:05.178334Z"
    }
   },
   "outputs": [],
   "source": [
    "storage_directory = '/Users/steventorrisi/Documents/TRIXS/data/MP_OQMD_combined'\n",
    "# Determine this by learning the MAE from another calculation.\n",
    "bader_range_cutoff = .07\n",
    "\n",
    "target_elements_groups=[('Co','O'),('Fe','O'),('V','O'),('Cu','O'),\n",
    "                        ('Ni','O'),('Cr','O'),('Mn','O'),('Ti','O')]\n",
    "target_metals = set(['Co','Ni','Fe','Cr','V','Mn','Cu','Ti'])\n",
    "target_elements_sets =[set(pair) for pair in target_elements_groups]"
   ]
  },
  {
   "cell_type": "markdown",
   "metadata": {},
   "source": [
    "## Import Statements"
   ]
  },
  {
   "cell_type": "code",
   "execution_count": 4,
   "metadata": {
    "ExecuteTime": {
     "end_time": "2019-08-21T05:25:05.820130Z",
     "start_time": "2019-08-21T05:25:05.795234Z"
    }
   },
   "outputs": [
    {
     "name": "stdout",
     "output_type": "stream",
     "text": [
      "The autoreload extension is already loaded. To reload it, use:\n",
      "  %reload_ext autoreload\n"
     ]
    }
   ],
   "source": [
    "%load_ext autoreload\n",
    "%autoreload 2\n",
    "from pymatgen.ext.matproj import MPRester\n",
    "from pymatgen.core import Structure\n",
    "from pymatgen.analysis.structure_matcher import StructureMatcher, ElementComparator\n",
    "from trixs.spectra.core import XAS_Spectrum, XAS_Collation\n",
    "from trixs.spectra.util import NumpyEncoder\n",
    "from pymatgen.analysis.local_env import CrystalNN\n",
    "from tqdm import tqdm, tqdm_notebook\n",
    "from pprint import pprint\n",
    "import matplotlib.pyplot as plt\n",
    "import json\n",
    "import os\n",
    "import gc as gc\n",
    "import numpy as np\n",
    "from pandas import DataFrame\n",
    "from trixs.spectra.spectrum_compare import compare_spectrum"
   ]
  },
  {
   "cell_type": "markdown",
   "metadata": {},
   "source": [
    "## Load in the results of the previous pre-processing step\n",
    "## in which MP and OQMD collated structures were computed"
   ]
  },
  {
   "cell_type": "code",
   "execution_count": 5,
   "metadata": {
    "ExecuteTime": {
     "end_time": "2019-08-21T05:27:29.103936Z",
     "start_time": "2019-08-21T05:25:10.608245Z"
    }
   },
   "outputs": [
    {
     "data": {
      "application/vnd.jupyter.widget-view+json": {
       "model_id": "b9d1b310119d4ed59b0749b7432e6e1e",
       "version_major": 2,
       "version_minor": 0
      },
      "text/plain": [
       "HBox(children=(IntProgress(value=0, description='Loading in pairs', max=8, style=ProgressStyle(description_wid…"
      ]
     },
     "metadata": {},
     "output_type": "display_data"
    },
    {
     "name": "stderr",
     "output_type": "stream",
     "text": [
      "/Users/steventorrisi/.local/lib/python3.6/site-packages/pymatgen/core/structure.py:638: UserWarning: Not all sites have property coordination_no. Missing values are set to None.\n",
      "  \"are set to None.\" % k)\n"
     ]
    },
    {
     "name": "stdout",
     "output_type": "stream",
     "text": [
      "\n"
     ]
    }
   ],
   "source": [
    "collations = {pair: [] for pair in target_elements_groups}\n",
    "suffix = '_MP_OQMD_combined_collations.json'\n",
    "collated_total = 0 \n",
    "for pair in tqdm_notebook(target_elements_groups,desc='Loading in pairs'):\n",
    "    target = storage_directory + '/{}_{}'.format(pair[0],pair[1])+ suffix\n",
    "    with open(target,'r') as f:\n",
    "        collations[pair] = [XAS_Collation.from_dict(json.loads(line)) for line in f.readlines()]\n",
    "        collated_total += len(collations[pair])\n",
    "cols_by_id = {pair: {} for pair in target_elements_groups}\n",
    "\n",
    "ids_total = 0\n",
    "for pair in target_elements_groups:\n",
    "    for col in collations[pair]:\n",
    "        if col.mp_id:\n",
    "            cols_by_id[pair][col.mp_id] = col\n",
    "        elif col.oqmd_id:\n",
    "            cols_by_id[pair][col.oqmd_id] = col\n",
    "        \n",
    "    ids_total += len(cols_by_id[pair])\n",
    "\n",
    "assert ids_total == collated_total "
   ]
  },
  {
   "cell_type": "markdown",
   "metadata": {},
   "source": [
    "# Load in computed spectra from Atomate"
   ]
  },
  {
   "cell_type": "code",
   "execution_count": 6,
   "metadata": {
    "ExecuteTime": {
     "end_time": "2019-08-21T05:27:29.128292Z",
     "start_time": "2019-08-21T05:27:29.106714Z"
    }
   },
   "outputs": [],
   "source": [
    "update_feff = False\n",
    "\n",
    "if update_feff:\n",
    "    ! scp -i /Users/steventorrisi/.ssh/steven-torrisi-materials.pem ${AWS_UBUNTU}:/home/ubuntu/feff_prod_image.json /Users/steventorrisi/Documents/TRIXS/data/feff_prod/.\n",
    "    ! echo ${AWS_UBUNTU}"
   ]
  },
  {
   "cell_type": "code",
   "execution_count": 7,
   "metadata": {
    "ExecuteTime": {
     "end_time": "2019-08-21T05:27:29.985605Z",
     "start_time": "2019-08-21T05:27:29.131589Z"
    }
   },
   "outputs": [
    {
     "name": "stdout",
     "output_type": "stream",
     "text": [
      "Loaded in 10213 spectra\n"
     ]
    }
   ],
   "source": [
    "feff_spectra = []\n",
    "with open('/Users/steventorrisi/Documents/TRIXS/data/feff_prod/feff_prod_image.json','r') as f:\n",
    "    feff_spectra = [line for line in f.readlines() ]\n",
    "print(\"Loaded in {} spectra\".format(len(feff_spectra)))"
   ]
  },
  {
   "cell_type": "code",
   "execution_count": 7,
   "metadata": {
    "ExecuteTime": {
     "end_time": "2019-08-17T17:08:43.469441Z",
     "start_time": "2019-08-17T17:08:16.141512Z"
    }
   },
   "outputs": [
    {
     "data": {
      "application/vnd.jupyter.widget-view+json": {
       "model_id": "067dc879bc1e41e6b64c82278bc95ee0",
       "version_major": 2,
       "version_minor": 0
      },
      "text/plain": [
       "HBox(children=(IntProgress(value=0, max=10213), HTML(value='')))"
      ]
     },
     "metadata": {},
     "output_type": "display_data"
    },
    {
     "name": "stdout",
     "output_type": "stream",
     "text": [
      "\n",
      "{('Co', 'O'): 261,\n",
      " ('Cr', 'O'): 629,\n",
      " ('Cu', 'O'): 398,\n",
      " ('Fe', 'O'): 1325,\n",
      " ('Mn', 'O'): 2853,\n",
      " ('Ni', 'O'): 403,\n",
      " ('Ti', 'O'): 2827,\n",
      " ('V', 'O'): 1425}\n"
     ]
    }
   ],
   "source": [
    "feff =' '\n",
    "spectra_matched = {pair: 0 for pair in target_elements_groups}\n",
    "for feff_line in tqdm_notebook(feff_spectra):\n",
    "    del feff\n",
    "    feff = json.loads(feff_line)\n",
    "    #assert False\n",
    "    absorbing_idx = feff['absorbing_atom']\n",
    "    absorbing_elt = feff['structure']['sites'][absorbing_idx]['label']\n",
    "    \n",
    "    if absorbing_elt not in target_metals:\n",
    "        continue\n",
    "    \n",
    "    run_id = feff['metadata']['id']\n",
    "    mp_id = run_id if 'mp' in run_id else None\n",
    "    oqmd_id = run_id if 'oqmd' in run_id else None\n",
    "    \n",
    "    present_pair = (absorbing_elt,'O')\n",
    "\n",
    "    # Pick out the appropriate collation based on the MP id and/or the OQMD id.\n",
    "    \n",
    "    cur_col = cols_by_id[present_pair].get(mp_id,None)\n",
    "    if cur_col is None:\n",
    "        cur_col = cols_by_id[present_pair].get(oqmd_id,None)\n",
    "    if not cur_col:\n",
    "        continue\n",
    "    \n",
    "    # Check against double appenadage\n",
    "    cur_col_ids = [spec['_id'] for spec in cur_col.feff_spectra if isinstance(spec,dict)]\n",
    "    feff['metadata']={'origin': 'feff'}\n",
    "    if feff['_id'] not in cur_col_ids:\n",
    "        cur_col.feff_spectra.append(XAS_Spectrum.from_atomate_document(feff))   \n",
    "        spectra_matched[present_pair]+=1\n",
    "\n",
    "pprint(spectra_matched)\n"
   ]
  },
  {
   "cell_type": "markdown",
   "metadata": {},
   "source": [
    "## Save all spectra-less structures"
   ]
  },
  {
   "cell_type": "code",
   "execution_count": 7,
   "metadata": {
    "ExecuteTime": {
     "end_time": "2019-08-17T03:11:30.891188Z",
     "start_time": "2019-08-17T03:10:49.999345Z"
    }
   },
   "outputs": [
    {
     "data": {
      "application/vnd.jupyter.widget-view+json": {
       "model_id": "1ea94edd1a654e2da43b886fea47949b",
       "version_major": 2,
       "version_minor": 0
      },
      "text/plain": [
       "HBox(children=(IntProgress(value=0, max=8), HTML(value='')))"
      ]
     },
     "metadata": {},
     "output_type": "display_data"
    },
    {
     "name": "stdout",
     "output_type": "stream",
     "text": [
      "\n",
      "Wrote 11873 structures\n"
     ]
    }
   ],
   "source": [
    "needs_spectra = {}\n",
    "has_spectra = 0\n",
    "for pair in tqdm_notebook(target_elements_groups): \n",
    "    for col in collations[pair]:\n",
    "        if not col.has_spectra() and col.has_bader():\n",
    "            if col.mp_id:\n",
    "                needs_spectra[col.mp_id] = col.structure.as_dict()\n",
    "            elif col.oqmd_id:\n",
    "                needs_spectra[col.oqmd_id] = col.structure.as_dict()\n",
    "        elif col.has_spectra():\n",
    "            has_spectra +=1\n",
    "                \n",
    "with open(storage_directory+\"/Needs_spectra_oxy.json\",'w') as f: \n",
    "    for key, val in needs_spectra.items():\n",
    "        f.write(json.dumps({key:val}) + '\\n')\n",
    "print(\"Wrote {} structures\".format(len(needs_spectra)))"
   ]
  },
  {
   "cell_type": "markdown",
   "metadata": {},
   "source": [
    "### Now, we turn our attention to the structures for which we *do* have spectra"
   ]
  },
  {
   "cell_type": "code",
   "execution_count": 8,
   "metadata": {
    "ExecuteTime": {
     "end_time": "2019-08-17T03:11:30.922137Z",
     "start_time": "2019-08-17T03:11:30.895493Z"
    }
   },
   "outputs": [],
   "source": [
    "one_hot_coord_map = {\n",
    "                4:(1,0,0),\n",
    "                5:(0,1,0),\n",
    "                6: (0,0,1)}"
   ]
  },
  {
   "cell_type": "markdown",
   "metadata": {},
   "source": [
    "Determine minimum and maximum x values"
   ]
  },
  {
   "cell_type": "code",
   "execution_count": 9,
   "metadata": {
    "ExecuteTime": {
     "end_time": "2019-08-17T03:11:36.840181Z",
     "start_time": "2019-08-17T03:11:30.925318Z"
    },
    "scrolled": false
   },
   "outputs": [
    {
     "data": {
      "application/vnd.jupyter.widget-view+json": {
       "model_id": "a76a7922b72f4424b9c0b01cd349d28c",
       "version_major": 2,
       "version_minor": 0
      },
      "text/plain": [
       "HBox(children=(IntProgress(value=0, max=8), HTML(value='')))"
      ]
     },
     "metadata": {},
     "output_type": "display_data"
    },
    {
     "name": "stdout",
     "output_type": "stream",
     "text": [
      "The range of minima for ('Co', 'O'): [7710.667,7717.266]\n",
      "The range of maxima for ('Co', 'O'): [7765.83,7772.428]\n"
     ]
    },
    {
     "data": {
      "image/png": "[encoded data removed]",
      "text/plain": [
       "<Figure size 432x288 with 1 Axes>"
      ]
     },
     "metadata": {
      "needs_background": "light"
     },
     "output_type": "display_data"
    },
    {
     "name": "stdout",
     "output_type": "stream",
     "text": [
      "=========================\n",
      "The range of minima for ('Fe', 'O'): [7112.602,7119.339]\n",
      "The range of maxima for ('Fe', 'O'): [7167.764,7174.502]\n"
     ]
    },
    {
     "data": {
      "image/png": "[encoded data removed]",
      "text/plain": [
       "<Figure size 432x288 with 1 Axes>"
      ]
     },
     "metadata": {
      "needs_background": "light"
     },
     "output_type": "display_data"
    },
    {
     "name": "stdout",
     "output_type": "stream",
     "text": [
      "=========================\n",
      "The range of minima for ('V', 'O'): [5465.469,5469.199]\n",
      "The range of maxima for ('V', 'O'): [5520.631,5524.362]\n"
     ]
    },
    {
     "data": {
      "image/png": "[encoded data removed]",
      "text/plain": [
       "<Figure size 432x288 with 1 Axes>"
      ]
     },
     "metadata": {
      "needs_background": "light"
     },
     "output_type": "display_data"
    },
    {
     "name": "stdout",
     "output_type": "stream",
     "text": [
      "=========================\n",
      "The range of minima for ('Cu', 'O'): [8984.566,8990.103]\n",
      "The range of maxima for ('Cu', 'O'): [9039.728,9045.266]\n"
     ]
    },
    {
     "data": {
      "image/png": "[encoded data removed]",
      "text/plain": [
       "<Figure size 432x288 with 1 Axes>"
      ]
     },
     "metadata": {
      "needs_background": "light"
     },
     "output_type": "display_data"
    },
    {
     "name": "stdout",
     "output_type": "stream",
     "text": [
      "=========================\n",
      "The range of minima for ('Ni', 'O'): [8333.561,8340.301]\n",
      "The range of maxima for ('Ni', 'O'): [8388.723,8395.463]\n"
     ]
    },
    {
     "data": {
      "image/png": "[encoded data removed]",
      "text/plain": [
       "<Figure size 432x288 with 1 Axes>"
      ]
     },
     "metadata": {
      "needs_background": "light"
     },
     "output_type": "display_data"
    },
    {
     "name": "stdout",
     "output_type": "stream",
     "text": [
      "=========================\n",
      "The range of minima for ('Cr', 'O'): [5990.523,5993.625]\n",
      "The range of maxima for ('Cr', 'O'): [6045.686,6048.788]\n"
     ]
    },
    {
     "data": {
      "image/png": "[encoded data removed]",
      "text/plain": [
       "<Figure size 432x288 with 1 Axes>"
      ]
     },
     "metadata": {
      "needs_background": "light"
     },
     "output_type": "display_data"
    },
    {
     "name": "stdout",
     "output_type": "stream",
     "text": [
      "=========================\n",
      "The range of minima for ('Mn', 'O'): [6539.255,6543.848]\n",
      "The range of maxima for ('Mn', 'O'): [6594.417,6599.01]\n"
     ]
    },
    {
     "data": {
      "image/png": "[encoded data removed]",
      "text/plain": [
       "<Figure size 432x288 with 1 Axes>"
      ]
     },
     "metadata": {
      "needs_background": "light"
     },
     "output_type": "display_data"
    },
    {
     "name": "stdout",
     "output_type": "stream",
     "text": [
      "=========================\n",
      "The range of minima for ('Ti', 'O'): [4965.862,4971.775]\n",
      "The range of maxima for ('Ti', 'O'): [5021.024,5026.937]\n"
     ]
    },
    {
     "data": {
      "image/png": "[encoded data removed]",
      "text/plain": [
       "<Figure size 432x288 with 1 Axes>"
      ]
     },
     "metadata": {
      "needs_background": "light"
     },
     "output_type": "display_data"
    },
    {
     "name": "stdout",
     "output_type": "stream",
     "text": [
      "=========================\n",
      "\n"
     ]
    }
   ],
   "source": [
    "eyeballed_x_cutoffs = {('Co','O'):(7715,7770),\n",
    "                       ('Fe','O'):(7117,7172),\n",
    "                       ('Ni','O'):(8338,8394),\n",
    "                       ('V','O'):None,\n",
    "                       ('Mn','O'):(6543,6599),\n",
    "                       ('Ti','O'):(4971,5026),\n",
    "                       ('Cu','O'):(8988,9045),\n",
    "                       ('Cr','O'):None}\n",
    "\n",
    "limits_by_pair = {pair: () for pair in target_elements_groups}\n",
    "domain_by_pair = {pair: () for pair in target_elements_groups}\n",
    "for pair in tqdm_notebook(target_elements_groups): \n",
    "    mins = []\n",
    "    maxs = []\n",
    "    for col in [col for col in collations[pair] if col.has_spectra()]:\n",
    "        for spec in col.mp_spectra + col.feff_spectra:\n",
    "            spec = XAS_Spectrum.load_from_object(spec)\n",
    "            mins.append(min(spec.x))\n",
    "            maxs.append(max(spec.x))\n",
    "            \n",
    "    plt.hist(mins,color='blue',label='Mins')\n",
    "    plt.hist(maxs,color='red',label='Maxima')\n",
    "    plt.title(\"Spectra minima and Maxima for {}\".format(pair))\n",
    "    if eyeballed_x_cutoffs.get(pair,None):\n",
    "        plt.axvline(eyeballed_x_cutoffs[pair][0],color='blue',ls='--',label='Min Cutoff')\n",
    "        plt.axvline(eyeballed_x_cutoffs[pair][1],color='red',ls='--',label='Max Cutoff')\n",
    "    plt.axvline(max(mins),color='black',ls='--',label='Highest Minimum')\n",
    "\n",
    "    print('The range of minima for {}: [{},{}]'.format(pair,min(mins),max(mins)))\n",
    "    print('The range of maxima for {}: [{},{}]'.format(pair,min(maxs),max(maxs)))\n",
    "    plt.legend()\n",
    "    plt.show()\n",
    "    print('=========================')\n",
    "    #domain_min = eyeballed_x_cutoffs.get(pair,None)\n",
    "    #if not domain_min:\n",
    "    domain_min = min(mins)\n",
    "    #else:\n",
    "    #    domain_min = domain_min[0]\n",
    "    domain_by_pair[pair] = np.linspace(domain_min,min(maxs),100)"
   ]
  },
  {
   "cell_type": "markdown",
   "metadata": {},
   "source": [
    "Define the \"exclusion zone\" of spectra with anomalously high peaks or anomalously fast falloff for statistical reasons"
   ]
  },
  {
   "cell_type": "code",
   "execution_count": 10,
   "metadata": {
    "ExecuteTime": {
     "end_time": "2019-08-17T03:11:36.885132Z",
     "start_time": "2019-08-17T03:11:36.842382Z"
    }
   },
   "outputs": [],
   "source": [
    "#Format: pair: [(x,y)]\n",
    "lower_right_ez = {('Co','O'):[(7730,0.3)],\n",
    "                           ('Fe','O'):[(7130,0.2)],\n",
    "                           ('V','O'):[(5485,0.39)],\n",
    "                            ('Cu','O'):[(9005,0.38),(9010,.39),(9020,.3),(9025,.35)],\n",
    "                            ('Ni','O'):[(8347,0.05),(8355,.3)],\n",
    "                            ('Cr','O'):[(6015,0.3)],\n",
    "                            ('Mn','O'):[(6555,0.1),(6570,.15),(6590,.16)],\n",
    "                            ('Ti','O'):[(4985,.3),(4980,.1)]}\n",
    "\n",
    "upper_right_ez = {\n",
    "                            ('Cu','O'):[(9025,.95)],\n",
    "                            ('V','O'):[(5517,.9)]}\n",
    "upper_left_ez = {}\n",
    "\n",
    "def violates_exclusion_zone(exclz,pair,spec,region = 'lower_right'):\n",
    "    zones = exclz.get(pair,None)\n",
    "    if zones:\n",
    "        for zone in zones:\n",
    "            excl_x = zone[0]\n",
    "            excl_y = zone[1]\n",
    "            spec.normalize('max')\n",
    "            if region=='lower_right':\n",
    "                if any([(x >excl_x and y<excl_y) for x,y in zip(spec.x,spec.y)]): \n",
    "                    return True\n",
    "            elif region=='upper_right':\n",
    "                 if any([(x >excl_x and y>excl_y) for x,y in zip(spec.x,spec.y)]): \n",
    "                    return True\n",
    "            elif region=='upper_left':\n",
    "                return False\n",
    "    \n",
    "    return False\n"
   ]
  },
  {
   "cell_type": "markdown",
   "metadata": {},
   "source": [
    "### Tally the final (X, Y) pairs, then loop through and prune duplicates"
   ]
  },
  {
   "cell_type": "code",
   "execution_count": 11,
   "metadata": {
    "ExecuteTime": {
     "end_time": "2019-08-17T03:16:07.504889Z",
     "start_time": "2019-08-17T03:11:36.887941Z"
    },
    "code_folding": [],
    "scrolled": true
   },
   "outputs": [
    {
     "data": {
      "application/vnd.jupyter.widget-view+json": {
       "model_id": "b1c9bcede7c142ecab982e3deed724d3",
       "version_major": 2,
       "version_minor": 0
      },
      "text/plain": [
       "HBox(children=(IntProgress(value=0, max=8), HTML(value='')))"
      ]
     },
     "metadata": {},
     "output_type": "display_data"
    },
    {
     "data": {
      "application/vnd.jupyter.widget-view+json": {
       "model_id": "a6f951634f5d4ecb861f3d1381ea6907",
       "version_major": 2,
       "version_minor": 0
      },
      "text/plain": [
       "HBox(children=(IntProgress(value=0, description=\"('Co', 'O')\", max=1423, style=ProgressStyle(description_width…"
      ]
     },
     "metadata": {},
     "output_type": "display_data"
    },
    {
     "name": "stdout",
     "output_type": "stream",
     "text": [
      "Candidate spectra: 3174\n"
     ]
    },
    {
     "data": {
      "application/vnd.jupyter.widget-view+json": {
       "model_id": "ae377db63de74e58b8d82a1a09ccc726",
       "version_major": 2,
       "version_minor": 0
      },
      "text/plain": [
       "HBox(children=(IntProgress(value=0, description='Removing duplicates', max=3174, style=ProgressStyle(descripti…"
      ]
     },
     "metadata": {},
     "output_type": "display_data"
    },
    {
     "data": {
      "application/vnd.jupyter.widget-view+json": {
       "model_id": "0976e83b4c6c4c049ee812890794b601",
       "version_major": 2,
       "version_minor": 0
      },
      "text/plain": [
       "HBox(children=(IntProgress(value=0, description='Writing', max=3174, style=ProgressStyle(description_width='in…"
      ]
     },
     "metadata": {},
     "output_type": "display_data"
    },
    {
     "name": "stdout",
     "output_type": "stream",
     "text": [
      "Total spectra: 3174 , Total 4/5/6 coord: 3136 , Total Bader: 1803, Excluded : 34, Redundant: 0\n"
     ]
    },
    {
     "data": {
      "application/vnd.jupyter.widget-view+json": {
       "model_id": "0768b293c2d3449397aea03553a74bb2",
       "version_major": 2,
       "version_minor": 0
      },
      "text/plain": [
       "HBox(children=(IntProgress(value=0, description=\"('Fe', 'O')\", max=2629, style=ProgressStyle(description_width…"
      ]
     },
     "metadata": {},
     "output_type": "display_data"
    },
    {
     "name": "stdout",
     "output_type": "stream",
     "text": [
      "Candidate spectra: 7064\n"
     ]
    },
    {
     "data": {
      "application/vnd.jupyter.widget-view+json": {
       "model_id": "2ca6bdcdfcad4124bdc6b8f5f33c9b77",
       "version_major": 2,
       "version_minor": 0
      },
      "text/plain": [
       "HBox(children=(IntProgress(value=0, description='Removing duplicates', max=7064, style=ProgressStyle(descripti…"
      ]
     },
     "metadata": {},
     "output_type": "display_data"
    },
    {
     "data": {
      "application/vnd.jupyter.widget-view+json": {
       "model_id": "ea230c81f13544e89f75666957bca609",
       "version_major": 2,
       "version_minor": 0
      },
      "text/plain": [
       "HBox(children=(IntProgress(value=0, description='Writing', max=7064, style=ProgressStyle(description_width='in…"
      ]
     },
     "metadata": {},
     "output_type": "display_data"
    },
    {
     "name": "stdout",
     "output_type": "stream",
     "text": [
      "Total spectra: 7064 , Total 4/5/6 coord: 6972 , Total Bader: 3743, Excluded : 178, Redundant: 0\n"
     ]
    },
    {
     "data": {
      "application/vnd.jupyter.widget-view+json": {
       "model_id": "1b367db71a114aeb9deca3842980702f",
       "version_major": 2,
       "version_minor": 0
      },
      "text/plain": [
       "HBox(children=(IntProgress(value=0, description=\"('V', 'O')\", max=2700, style=ProgressStyle(description_width=…"
      ]
     },
     "metadata": {},
     "output_type": "display_data"
    },
    {
     "name": "stdout",
     "output_type": "stream",
     "text": [
      "Candidate spectra: 7076\n"
     ]
    },
    {
     "data": {
      "application/vnd.jupyter.widget-view+json": {
       "model_id": "4eb79d8f31524aca919936d2c715fbed",
       "version_major": 2,
       "version_minor": 0
      },
      "text/plain": [
       "HBox(children=(IntProgress(value=0, description='Removing duplicates', max=7076, style=ProgressStyle(descripti…"
      ]
     },
     "metadata": {},
     "output_type": "display_data"
    },
    {
     "data": {
      "application/vnd.jupyter.widget-view+json": {
       "model_id": "8af7d1bc1c8049efba2d68ec61cdb0ab",
       "version_major": 2,
       "version_minor": 0
      },
      "text/plain": [
       "HBox(children=(IntProgress(value=0, description='Writing', max=7076, style=ProgressStyle(description_width='in…"
      ]
     },
     "metadata": {},
     "output_type": "display_data"
    },
    {
     "name": "stdout",
     "output_type": "stream",
     "text": [
      "Total spectra: 7076 , Total 4/5/6 coord: 7029 , Total Bader: 3834, Excluded : 220, Redundant: 0\n"
     ]
    },
    {
     "data": {
      "application/vnd.jupyter.widget-view+json": {
       "model_id": "e5e0e41898ee42c9ab24f45d775a5087",
       "version_major": 2,
       "version_minor": 0
      },
      "text/plain": [
       "HBox(children=(IntProgress(value=0, description=\"('Cu', 'O')\", max=1515, style=ProgressStyle(description_width…"
      ]
     },
     "metadata": {},
     "output_type": "display_data"
    },
    {
     "name": "stdout",
     "output_type": "stream",
     "text": [
      "Candidate spectra: 2879\n"
     ]
    },
    {
     "data": {
      "application/vnd.jupyter.widget-view+json": {
       "model_id": "dcebfb7af19f49b49ae510c89ee2f46a",
       "version_major": 2,
       "version_minor": 0
      },
      "text/plain": [
       "HBox(children=(IntProgress(value=0, description='Removing duplicates', max=2879, style=ProgressStyle(descripti…"
      ]
     },
     "metadata": {},
     "output_type": "display_data"
    },
    {
     "data": {
      "application/vnd.jupyter.widget-view+json": {
       "model_id": "00bd9a7b66bd4110b244a1024f415dcb",
       "version_major": 2,
       "version_minor": 0
      },
      "text/plain": [
       "HBox(children=(IntProgress(value=0, description='Writing', max=2879, style=ProgressStyle(description_width='in…"
      ]
     },
     "metadata": {},
     "output_type": "display_data"
    },
    {
     "name": "stdout",
     "output_type": "stream",
     "text": [
      "Total spectra: 2879 , Total 4/5/6 coord: 2760 , Total Bader: 1588, Excluded : 105, Redundant: 0\n"
     ]
    },
    {
     "data": {
      "application/vnd.jupyter.widget-view+json": {
       "model_id": "aaa10b8eb89f43b888dc37b536a4f1ec",
       "version_major": 2,
       "version_minor": 0
      },
      "text/plain": [
       "HBox(children=(IntProgress(value=0, description=\"('Ni', 'O')\", max=1376, style=ProgressStyle(description_width…"
      ]
     },
     "metadata": {},
     "output_type": "display_data"
    },
    {
     "name": "stdout",
     "output_type": "stream",
     "text": [
      "Candidate spectra: 3068\n"
     ]
    },
    {
     "data": {
      "application/vnd.jupyter.widget-view+json": {
       "model_id": "8821f2da0dd94387adbd4769b5b97f69",
       "version_major": 2,
       "version_minor": 0
      },
      "text/plain": [
       "HBox(children=(IntProgress(value=0, description='Removing duplicates', max=3068, style=ProgressStyle(descripti…"
      ]
     },
     "metadata": {},
     "output_type": "display_data"
    },
    {
     "data": {
      "application/vnd.jupyter.widget-view+json": {
       "model_id": "a5195466b567416797aaf690ac6f2772",
       "version_major": 2,
       "version_minor": 0
      },
      "text/plain": [
       "HBox(children=(IntProgress(value=0, description='Writing', max=3068, style=ProgressStyle(description_width='in…"
      ]
     },
     "metadata": {},
     "output_type": "display_data"
    },
    {
     "name": "stdout",
     "output_type": "stream",
     "text": [
      "Total spectra: 3068 , Total 4/5/6 coord: 3028 , Total Bader: 1870, Excluded : 16, Redundant: 0\n"
     ]
    },
    {
     "data": {
      "application/vnd.jupyter.widget-view+json": {
       "model_id": "665398ba54874cb29d31ce42c1ee84e1",
       "version_major": 2,
       "version_minor": 0
      },
      "text/plain": [
       "HBox(children=(IntProgress(value=0, description=\"('Cr', 'O')\", max=1330, style=ProgressStyle(description_width…"
      ]
     },
     "metadata": {},
     "output_type": "display_data"
    },
    {
     "name": "stdout",
     "output_type": "stream",
     "text": [
      "Candidate spectra: 2534\n"
     ]
    },
    {
     "data": {
      "application/vnd.jupyter.widget-view+json": {
       "model_id": "5112030863c34e5ca754be4ec7fe3591",
       "version_major": 2,
       "version_minor": 0
      },
      "text/plain": [
       "HBox(children=(IntProgress(value=0, description='Removing duplicates', max=2534, style=ProgressStyle(descripti…"
      ]
     },
     "metadata": {},
     "output_type": "display_data"
    },
    {
     "data": {
      "application/vnd.jupyter.widget-view+json": {
       "model_id": "bd427237c73e4ea081ad28c6542dc332",
       "version_major": 2,
       "version_minor": 0
      },
      "text/plain": [
       "HBox(children=(IntProgress(value=0, description='Writing', max=2534, style=ProgressStyle(description_width='in…"
      ]
     },
     "metadata": {},
     "output_type": "display_data"
    },
    {
     "name": "stdout",
     "output_type": "stream",
     "text": [
      "Total spectra: 2534 , Total 4/5/6 coord: 2489 , Total Bader: 2022, Excluded : 32, Redundant: 0\n"
     ]
    },
    {
     "data": {
      "application/vnd.jupyter.widget-view+json": {
       "model_id": "ac59d9ca33344c77a8236f13f068599e",
       "version_major": 2,
       "version_minor": 0
      },
      "text/plain": [
       "HBox(children=(IntProgress(value=0, description=\"('Mn', 'O')\", max=3341, style=ProgressStyle(description_width…"
      ]
     },
     "metadata": {},
     "output_type": "display_data"
    },
    {
     "name": "stdout",
     "output_type": "stream",
     "text": [
      "Candidate spectra: 9421\n"
     ]
    },
    {
     "data": {
      "application/vnd.jupyter.widget-view+json": {
       "model_id": "de366457e1ff42c4ab68ffe83eed2b5a",
       "version_major": 2,
       "version_minor": 0
      },
      "text/plain": [
       "HBox(children=(IntProgress(value=0, description='Removing duplicates', max=9421, style=ProgressStyle(descripti…"
      ]
     },
     "metadata": {},
     "output_type": "display_data"
    },
    {
     "data": {
      "application/vnd.jupyter.widget-view+json": {
       "model_id": "f77644dbc98d48e498090d27fa1c26d2",
       "version_major": 2,
       "version_minor": 0
      },
      "text/plain": [
       "HBox(children=(IntProgress(value=0, description='Writing', max=9421, style=ProgressStyle(description_width='in…"
      ]
     },
     "metadata": {},
     "output_type": "display_data"
    },
    {
     "name": "stdout",
     "output_type": "stream",
     "text": [
      "Total spectra: 9421 , Total 4/5/6 coord: 9290 , Total Bader: 4828, Excluded : 57, Redundant: 0\n"
     ]
    },
    {
     "data": {
      "application/vnd.jupyter.widget-view+json": {
       "model_id": "efa3d8d211894452916438058b244cbf",
       "version_major": 2,
       "version_minor": 0
      },
      "text/plain": [
       "HBox(children=(IntProgress(value=0, description=\"('Ti', 'O')\", max=2292, style=ProgressStyle(description_width…"
      ]
     },
     "metadata": {},
     "output_type": "display_data"
    },
    {
     "name": "stdout",
     "output_type": "stream",
     "text": [
      "Candidate spectra: 6345\n"
     ]
    },
    {
     "data": {
      "application/vnd.jupyter.widget-view+json": {
       "model_id": "ac1ef9ab42ac457eb482d1c8d3d1635f",
       "version_major": 2,
       "version_minor": 0
      },
      "text/plain": [
       "HBox(children=(IntProgress(value=0, description='Removing duplicates', max=6345, style=ProgressStyle(descripti…"
      ]
     },
     "metadata": {},
     "output_type": "display_data"
    },
    {
     "data": {
      "application/vnd.jupyter.widget-view+json": {
       "model_id": "16879cbdbc2c45aa8bd66f06030aa571",
       "version_major": 2,
       "version_minor": 0
      },
      "text/plain": [
       "HBox(children=(IntProgress(value=0, description='Writing', max=6345, style=ProgressStyle(description_width='in…"
      ]
     },
     "metadata": {},
     "output_type": "display_data"
    },
    {
     "name": "stdout",
     "output_type": "stream",
     "text": [
      "Total spectra: 6345 , Total 4/5/6 coord: 6268 , Total Bader: 4145, Excluded : 132, Redundant: 0\n",
      "\n"
     ]
    }
   ],
   "source": [
    "cnn = CrystalNN(distance_cutoffs = None)\n",
    "\n",
    "excluded_spectra = {pair:[] for pair in target_elements_groups}\n",
    "eyeballed_bader_cutoffs={pair:0 for pair in target_elements_groups}\n",
    "eyeballed_bader_cutoffs[(\"Ti,O\")] = .75\n",
    "eyeballed_bader_cutoffs[(\"Mn,O\")] = .5\n",
    "eyeballed_bader_cutoffs[(\"Cr,O\")] = .5\n",
    "eyeballed_bader_cutoffs[(\"Co,O\")] = .5\n",
    "\n",
    "excluded_bader_spectra = {pair:[] for pair in target_elements_groups}\n",
    "\n",
    "\n",
    "\n",
    "for pair in tqdm_notebook(target_elements_groups): \n",
    "    xy_target = storage_directory+'/{}_{}_XY.json'.format(pair[0],pair[1])\n",
    "    all_spec_target = storage_directory+'/{}_{}_final_spectra.json'\n",
    "    bader_counted = 0 \n",
    "    spectra_counted = 0\n",
    "    coords_counted = 0 \n",
    "    excluded = 0 \n",
    "    candidate_spectra = []\n",
    "    candidate_data = []\n",
    "    g = open(all_spec_target,'w')\n",
    "    with open(xy_target,'w') as f:\n",
    "        for col in tqdm_notebook([col for col in collations[pair]  if col.has_spectra()],\n",
    "                                 desc=str(pair)):\n",
    "            # Loop through the MP or FEFF spectra associated with a collation\n",
    "            if col.has_mp_spectra():\n",
    "                spectra = col.mp_spectra\n",
    "            else:\n",
    "                spectra = col.feff_spectra\n",
    "\n",
    "            #Within said spectra, load into a spectrum,\n",
    "            for spectrum in spectra:                \n",
    "                spectrum = XAS_Spectrum.load_from_object(spectrum)\n",
    "                \n",
    "                # Check exclusion zones\n",
    "                is_excluded = violates_exclusion_zone(lower_right_ez,pair,spectrum,'lower_right') or \\\n",
    "                              violates_exclusion_zone(upper_right_ez,pair,spectrum,'upper_right') or \\\n",
    "                              violates_exclusion_zone(upper_left_ez,pair,spectrum,'upper_left')\n",
    "                \n",
    "                if is_excluded:\n",
    "                    excluded +=1\n",
    "                    excluded_spectra[pair].append(spectrum)\n",
    "                    continue\n",
    "                abs_idx = spectrum.absorbing_site\n",
    "                ID = str(abs_idx) + '-' + col.mp_id if col.mp_id else col.oqmd_id\n",
    "                \n",
    "                data = {}\n",
    "                domain = domain_by_pair[pair]\n",
    "                if spectrum.has_full_spectrum():\n",
    "                    data['E'] = domain\n",
    "                    data['mu'] = spectrum.project_to_x_range(domain)\n",
    "                    data['E0'] = spectrum.Enorm\n",
    "                    data['k'] = spectrum.k\n",
    "                    data['mu0'] = spectrum.mu0\n",
    "                    data['chi'] = spectrum.chi\n",
    "                else:\n",
    "                    data['E'] = domain\n",
    "                    data['mu'] = spectrum.project_to_x_range(domain)\n",
    "                    data['E0'] = np.array([])\n",
    "                    data['k'] = np.array([])\n",
    "                    data['mu0'] = np.array([])\n",
    "                    data['chi'] = np.array([])\n",
    "                    \n",
    "                coord = spectrum.structure.sites[abs_idx].properties.get('coordination_no', None)\n",
    "                if coord is None:\n",
    "                    coord = cnn.get_cn(spectrum.structure,abs_idx)\n",
    "                    \n",
    "                if col.has_mp_bader() and col.has_oqmd_bader():\n",
    "                    \n",
    "                    relevant_mp_baders = [-1*chg[1] for chg in col.mp_bader if chg[0]==pair[0]]\n",
    "                    relevant_oqmd_baders = [chg[1] for chg in col.oqmd_bader if chg[0]==pair[0]]\n",
    "                    ##print(col.oqmd_bader)\n",
    "                    #print(relevant_oqmd_baders)\n",
    "                    mp_within_range = (np.max(relevant_mp_baders) - np.min(relevant_mp_baders)) <bader_range_cutoff\n",
    "                    oqmd_within_range =  (np.max(relevant_oqmd_baders) - np.min(relevant_oqmd_baders)) <bader_range_cutoff\n",
    "                    if mp_within_range and oqmd_within_range:\n",
    "                        computed_bader = np.mean(relevant_mp_baders + relevant_oqmd_baders)\n",
    "                        if computed_bader > eyeballed_bader_cutoffs[pair]:\n",
    "                            data['bader']  = computed_bader\n",
    "                elif col.has_bader():\n",
    "                    if col.has_mp_bader():\n",
    "                        relevant_baders = np.array([-1*chg[1] for chg in col.mp_bader if chg[0]==pair[0]])\n",
    "                    else:\n",
    "                        relevant_baders = np.array([chg[1] for chg in col.oqmd_bader if chg[0]==pair[0]])\n",
    "                                                   \n",
    "                    if (np.max(relevant_baders) - np.min(relevant_baders)) < bader_range_cutoff:\n",
    "                        computed_bader = np.mean(relevant_baders)\n",
    "                        if computed_bader > eyeballed_bader_cutoffs[pair]:\n",
    "                            data['bader'] = computed_bader\n",
    "                        else:\n",
    "                            excluded_bader_spectra[pair].append(spectrum)\n",
    "                        \n",
    "                if not data.get('bader', False):\n",
    "                    data['bader'] = None\n",
    "                else:\n",
    "                    bader_counted += 1\n",
    "                    \n",
    "                data ['coordination'] = coord\n",
    "                data['one_hot_coord'] = one_hot_coord_map.get(coord,None)\n",
    "                if data['one_hot_coord']:\n",
    "                    coords_counted += 1\n",
    "                data['metadata'] = spectrum.metadata\n",
    "                spectra_counted += 1\n",
    "                \n",
    "                \n",
    "                #Pick out spectra to write\n",
    "                spectrum.normalize('max')\n",
    "                candidate_spectra.append(spectrum)\n",
    "                candidate_data.append(data)\n",
    "                #f.write(json.dumps(data,cls=NumpyEncoder)+'\\n')\n",
    "                #g.write(json.dumps(spectrum.as_dict()) + '\\n')\n",
    "        #g.close() \n",
    "        duplicates_found = 0\n",
    "        to_write = []\n",
    "        unique_spectra = []\n",
    "        print('Candidate spectra:',len(candidate_spectra))\n",
    "        for i,cand in tqdm_notebook(enumerate(candidate_spectra),desc='Removing duplicates',\n",
    "                                   total=len(candidate_spectra)):\n",
    "            for uniq in unique_spectra:\n",
    "                pass\n",
    "                #if compare_spectrum(uniq,cand,method = 'euclidean')<.015:\n",
    "                #    duplicates_found +=1\n",
    "                #    continue\n",
    "            unique_spectra.append(cand)\n",
    "            to_write.append(candidate_data[i])\n",
    "            \n",
    "        \n",
    "        for write in tqdm_notebook(to_write,desc='Writing'):\n",
    "            f.write(json.dumps(write,cls=NumpyEncoder)+'\\n')\n",
    "        \n",
    "    #for spectrum in unique_spectra:\n",
    "    #    g.write(json.dumps(spectrum.as_dict()) + '\\n')\n",
    "    g.close() \n",
    "\n",
    "        \n",
    "    print(\"Total spectra: {} , Total 4/5/6 coord: {} , Total Bader: {}, Excluded : {}, Redundant: {}\".format(spectra_counted,coords_counted,bader_counted,excluded,duplicates_found))"
   ]
  },
  {
   "cell_type": "markdown",
   "metadata": {},
   "source": [
    "##  TODO: Visualize information about the excluded spectra for future postmortem studying"
   ]
  },
  {
   "cell_type": "code",
   "execution_count": null,
   "metadata": {},
   "outputs": [],
   "source": []
  }
 ],
 "metadata": {
  "kernelspec": {
   "display_name": "Python 3",
   "language": "python",
   "name": "python3"
  },
  "language_info": {
   "codemirror_mode": {
    "name": "ipython",
    "version": 3
   },
   "file_extension": ".py",
   "mimetype": "text/x-python",
   "name": "python",
   "nbconvert_exporter": "python",
   "pygments_lexer": "ipython3",
   "version": "3.6.8"
  }
 },
 "nbformat": 4,
 "nbformat_minor": 2
}
