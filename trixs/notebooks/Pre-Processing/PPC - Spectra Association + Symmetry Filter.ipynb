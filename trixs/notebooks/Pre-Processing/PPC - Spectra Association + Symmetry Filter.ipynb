{
 "cells": [
  {
   "cell_type": "markdown",
   "metadata": {},
   "source": [
    "# Associate scraped spectra with collations and remove those attached to atoms which are symmetrically equivalent\n",
    "\n",
    " # Goals:\n",
    "- Associate the spectra with collations drawn from the MP API.\n",
    "- Remove spectra which are attached to symmetrically equivalent atoms.\n",
    "\n",
    "\n",
    "## Inputs:\n",
    "- MP_{}\\_{}\\_API_collations.json: File containing the structures + associated Bader charges based on MP ID and Structure matching in XAS_collation form, serialized as dictionaries using the as_dict() method built into MSONables. Produced by PP-A.\n",
    "- MP_{}\\_{}\\_{}scraped_spectra.json: File containing the spectra scraped from the API based on MP ID serialized as dictionaries using the as_dict() method built into MSONables. Produced by PP-B.\n",
    "\n",
    "\n",
    "## Outputs:\n",
    "- MP_{}\\_{}\\_API+Spec+Symm\\_collations.json: File containing the collations which have structures, bader charges, and spectra associated with them (spectra purged by symemtrically equivalent atoms)."
   ]
  },
  {
   "cell_type": "code",
   "execution_count": null,
   "metadata": {
    "ExecuteTime": {
     "end_time": "2019-08-10T02:53:30.015544Z",
     "start_time": "2019-08-10T02:53:29.923010Z"
    }
   },
   "outputs": [],
   "source": [
    "import os\n",
    "from pymatgen.ext.matproj import MPRester\n",
    "data_prefix = '/Users/steventorrisi/Documents/TRIXS/data/'\n",
    "storage_directory = os.path.join(data_prefix,'MP_OQMD_combined')\n",
    "\n",
    "target_elements_groups=[('Co','O'),('Fe','O'),('V','O'),('Cu','O'),\n",
    "                        ('Ni','O'),('Cr','O'),('Mn','O'),('Ti','O')]\n",
    "target_metals = set(['Co','Ni','Fe','Cr','V','Mn','Cu','Ti'])"
   ]
  },
  {
   "cell_type": "markdown",
   "metadata": {},
   "source": [
    "## Import statements"
   ]
  },
  {
   "cell_type": "code",
   "execution_count": null,
   "metadata": {
    "ExecuteTime": {
     "end_time": "2019-08-10T02:53:30.037240Z",
     "start_time": "2019-08-10T02:53:30.022665Z"
    }
   },
   "outputs": [],
   "source": [
    "from pymatgen.ext.matproj import MPRester\n",
    "from pymatgen.core import Structure\n",
    "from pymatgen.analysis.structure_matcher import StructureMatcher, ElementComparator\n",
    "from tqdm import tqdm, tqdm_notebook\n",
    "from pprint import pprint\n",
    "import json\n",
    "import os\n",
    "import numpy as np\n",
    "from monty.json import MSONable\n",
    "import gc\n",
    "import matplotlib.pyplot as plt\n",
    "from trixs.spectra.core import XAS_Spectrum, XAS_Collation\n",
    "from pymatgen.analysis.local_env import CrystalNN\n",
    "\n",
    "matcher = StructureMatcher(comparator = ElementComparator())"
   ]
  },
  {
   "cell_type": "markdown",
   "metadata": {},
   "source": [
    "#  Load Pre-computed MP Collations\n",
    "\n",
    "Loop through the MP structures obtained from the written output of an earlier scrape from the materials project API.\n",
    "For each of those structures, index the structures as XANES collation objects."
   ]
  },
  {
   "cell_type": "code",
   "execution_count": null,
   "metadata": {
    "ExecuteTime": {
     "end_time": "2019-08-10T02:55:27.669711Z",
     "start_time": "2019-08-10T02:53:30.045317Z"
    }
   },
   "outputs": [],
   "source": [
    "mp_cols = {pair:[] for pair in target_elements_groups}\n",
    "mp_id_to_col = {pair:{} for pair in target_elements_groups}\n",
    "for pair in tqdm_notebook(target_elements_groups):\n",
    "    file_name = '{}_{}_MP_API_collations.json'.format(pair[0],pair[1])\n",
    "    read_target = os.path.join(storage_directory,file_name)\n",
    "    with open(read_target,'r') as f:\n",
    "        for line in f.readlines():\n",
    "            cur_col = XAS_Collation.from_dict(json.loads(line))\n",
    "            mp_cols[pair].append(cur_col)\n",
    "            mp_id_to_col[pair][cur_col.mp_id]=cur_col\n",
    "    print(\"Loaded in {} for {}\".format(len(mp_cols[pair]),pair))"
   ]
  },
  {
   "cell_type": "markdown",
   "metadata": {},
   "source": [
    "# Load Pre-computed MP Spectra"
   ]
  },
  {
   "cell_type": "code",
   "execution_count": null,
   "metadata": {
    "ExecuteTime": {
     "end_time": "2019-08-10T02:56:40.399788Z",
     "start_time": "2019-08-10T02:55:27.671618Z"
    }
   },
   "outputs": [],
   "source": [
    "for pair in tqdm_notebook(target_elements_groups):\n",
    "    file_name = '{}_{}_scraped_spectra+coord.json'.format(pair[0],pair[1])\n",
    "    read_target = os.path.join(storage_directory,file_name)\n",
    "\n",
    "    with open(read_target,'r') as f:\n",
    "        for line in f.readlines():\n",
    "            cur_dict = json.loads(line)\n",
    "            try:\n",
    "                cur_spec = XAS_Spectrum.from_dict(cur_dict)\n",
    "            except:\n",
    "                cur_spec = XAS_Spectrum.from_atomate_document(json.loads(line))\n",
    "            \n",
    "            cur_col = mp_id_to_col[pair].get(cur_spec.metadata['id'],None)\n",
    "            if cur_col is not None:\n",
    "                cur_col.mp_spectra.append(cur_spec)\n",
    "            else:\n",
    "                new_col = XAS_Collation(cur_spec.structure,mp_id = cur_spec.metadata['id'],\n",
    "                                       mp_spectra= [cur_spec])\n",
    "                mp_cols[pair].append(new_col)\n",
    "                mp_id_to_col[pair][new_col.mp_id] = new_col"
   ]
  },
  {
   "cell_type": "markdown",
   "metadata": {},
   "source": [
    "## Status report pre-structural purge"
   ]
  },
  {
   "cell_type": "code",
   "execution_count": null,
   "metadata": {
    "ExecuteTime": {
     "end_time": "2019-08-10T02:56:40.457692Z",
     "start_time": "2019-08-10T02:56:40.401514Z"
    }
   },
   "outputs": [],
   "source": [
    "#master_path = '/Users/steventorrisi/Documents/TRIXS/data/MP_Xas/master_trans_metal_oxides.json'\n",
    "print(\"Total spectra found before pruning symmetrically equivalent sites\")\n",
    "for pair in target_elements_groups:\n",
    "    n_uniq_mp_struc = len([col for col in mp_cols[pair] if col.has_mp_spectra()])\n",
    "    n_mp_spec = sum([len(col.mp_spectra) for col in mp_cols[pair]])\n",
    "    print(\"Found {} unique structures with spectra with {} total spectra for {}\".format(n_uniq_mp_struc,n_mp_spec,pair))\n",
    "    "
   ]
  },
  {
   "cell_type": "markdown",
   "metadata": {},
   "source": [
    "## Structure pruning "
   ]
  },
  {
   "cell_type": "code",
   "execution_count": null,
   "metadata": {
    "ExecuteTime": {
     "end_time": "2019-08-10T02:56:40.466960Z",
     "start_time": "2019-08-10T02:56:40.459548Z"
    }
   },
   "outputs": [],
   "source": [
    "def determine_uniqueness(strucs1,struc2):\n",
    "    \n",
    "    species_filtered = [struc for struc in strucs1 if struc.present_species==struc2.present_species]\n",
    "    \n",
    "    if len(species_filtered)==0 or len(strucs1)==0:\n",
    "        return True\n",
    "\n",
    "    \n",
    "    structure_matcher = StructureMatcher(attempt_supercell=True,\n",
    "                        comparator = ElementComparator())\n",
    "    for struc in species_filtered:\n",
    "        if structure_matcher.fit(struc,struc2):\n",
    "            return False\n",
    "    return True"
   ]
  },
  {
   "cell_type": "markdown",
   "metadata": {},
   "source": [
    "## Determine unique structures, first doing ones which have spectra (so as to not accidentally throw away those)."
   ]
  },
  {
   "cell_type": "code",
   "execution_count": null,
   "metadata": {
    "ExecuteTime": {
     "end_time": "2019-08-10T03:08:44.529762Z",
     "start_time": "2019-08-10T02:56:40.470222Z"
    }
   },
   "outputs": [],
   "source": [
    "has_spectra = {pair: [col for col in mp_cols[pair] if col.has_spectra()] for pair in target_elements_groups}\n",
    "lacks_spectra = {pair: [col for col in mp_cols[pair] if not col.has_spectra()] for pair in target_elements_groups}\n",
    "\n",
    "unique_structures = {pair: [] for pair in target_elements_groups}\n",
    "unique_collations = {pair: [] for pair in target_elements_groups}\n",
    "for pair in target_elements_groups:\n",
    "    print(\"{} collations with spectra before purge:{}\".format(pair,len(has_spectra[pair])))\n",
    "    print(\"{} collations without spectra before purge:{}\".format(pair,len(lacks_spectra[pair])))\n",
    "\n",
    "    for col in tqdm_notebook(has_spectra[pair],\n",
    "                             desc='Looping through {} structures'.format(pair)):\n",
    "        # Load in the current spectrum as a dictionary\n",
    "        cur_specs = col.mp_spectra\n",
    "        if len(cur_specs):\n",
    "            cur_strucs = [XAS_Spectrum.load_from_object(spec).structure for spec in cur_specs]\n",
    "            cur_struc = cur_strucs[0]\n",
    "        else:\n",
    "            cur_struc = col.structure\n",
    "        cur_struc.present_species = set([str(x) for x in cur_struc.species])\n",
    "        \n",
    "        if determine_uniqueness(unique_structures[pair],cur_struc):\n",
    "            unique_structures[pair].append(cur_struc)\n",
    "            unique_collations[pair].append(col)\n",
    "\n",
    "    unique_collations[pair] += lacks_spectra[pair]\n",
    "    del unique_structures[pair]\n",
    "    N_unique_has_spec =len([col for col in unique_collations[pair] if col.has_spectra()])\n",
    "    N_unique= len(unique_collations[pair])\n",
    "\n",
    "    print(\"After purging, unique collations with spectra / total for pair: {}, {}/{}\".format(pair,N_unique_has_spec,N_unique))\n"
   ]
  },
  {
   "cell_type": "markdown",
   "metadata": {},
   "source": [
    "## Prune spectra which are redundant by symmetry"
   ]
  },
  {
   "cell_type": "code",
   "execution_count": null,
   "metadata": {
    "ExecuteTime": {
     "end_time": "2019-08-10T03:08:44.644088Z",
     "start_time": "2019-08-10T03:08:44.601745Z"
    }
   },
   "outputs": [],
   "source": [
    "def are_all_same_structures(struc_list):\n",
    "    if len(struc_list)==1:\n",
    "        return True\n",
    "    main = struc_list[0]\n",
    "    for secondary in struc_list[1:]:\n",
    "        if not matcher.fit(main,secondary):\n",
    "            print(\"We got a serious problem\")\n",
    "            return False\n",
    "    return True"
   ]
  },
  {
   "cell_type": "markdown",
   "metadata": {},
   "source": [
    "The great symmetry purge"
   ]
  },
  {
   "cell_type": "code",
   "execution_count": null,
   "metadata": {
    "ExecuteTime": {
     "end_time": "2019-08-10T03:14:47.365207Z",
     "start_time": "2019-08-10T03:08:44.667514Z"
    }
   },
   "outputs": [],
   "source": [
    "from pymatgen.symmetry.analyzer import SpacegroupAnalyzer\n",
    "verbose = False\n",
    "\n",
    "for pair in target_elements_groups:\n",
    "    print(\"Spectra before purge for :\",pair,sum([len(col.mp_spectra) for col in mp_cols[pair] if col.has_mp_spectra()]))\n",
    "    print(\"MP collations before purge:\",len([col for col in mp_cols[pair] if col.has_mp_spectra()]))\n",
    "\n",
    "    for col in tqdm_notebook([col for col in mp_cols[pair] if col.has_spectra()],\n",
    "                             desc='Looping through {} collations with unique structures'.format(pair)):\n",
    "        # If only one spectrum is present, no risk of redundacy by symmetry\n",
    "        if len(col.mp_spectra)==1:\n",
    "            continue\n",
    "        # Load in the current spectrum as a dictionary\n",
    "        cur_specs = [XAS_Spectrum.load_from_object(spec) for spec in  col.mp_spectra]\n",
    "        cur_strucs = [spec.structure for spec in cur_specs]\n",
    "        absorbing_indices = [spec.absorbing_site for spec in cur_specs]        \n",
    "\n",
    "        assert are_all_same_structures(cur_strucs)\n",
    "        cur_struc = cur_strucs[0]\n",
    "        \n",
    "        sg = SpacegroupAnalyzer(cur_struc).get_space_group_operations()\n",
    "        \n",
    "        unique_sites = []\n",
    "        for idx1 in absorbing_indices:\n",
    "            unique = True\n",
    "            site1 = cur_struc.sites[idx1]\n",
    "            for idx2 in unique_sites:\n",
    "                site2 = cur_struc.sites[idx2]\n",
    "                if sg.are_symmetrically_equivalent([site1],[site2],symm_prec = 0.015):\n",
    "                    unqiue = False\n",
    "                    break\n",
    "            if unique:\n",
    "                unique_sites.append(idx1)\n",
    "        specs_to_keep = [absorbing_indices.index(site) for site in unique_sites]\n",
    "        col.mp_spectra = [cur_specs[i] for i in specs_to_keep]\n",
    "\n",
    "    print(\"Spectra after purge for pair:\",pair,sum([len(col.mp_spectra) for col in mp_cols[pair] if col.has_mp_spectra()]))\n",
    "    print(\"Collations after purge for pair:\",pair,len([col for col in mp_cols[pair] if col.has_mp_spectra()]))\n",
    "    print('=====================')"
   ]
  },
  {
   "cell_type": "code",
   "execution_count": null,
   "metadata": {
    "ExecuteTime": {
     "end_time": "2019-08-10T03:20:57.858576Z",
     "start_time": "2019-08-10T03:14:47.368924Z"
    }
   },
   "outputs": [],
   "source": [
    "for pair in target_elements_groups:\n",
    "    target_file = \"{}_{}_MP_API+Spec+Symm_collations.json\".format(pair[0],pair[1])\n",
    "    write_path = os.path.join(storage_directory,target_file)\n",
    "    with open(write_path,'w') as f:\n",
    "        for col in mp_cols[pair]:\n",
    "            f.write(json.dumps(col.as_dict())+'\\n')"
   ]
  },
  {
   "cell_type": "markdown",
   "metadata": {},
   "source": [
    "Sanity check : Eyeball spectral ranges"
   ]
  },
  {
   "cell_type": "code",
   "execution_count": null,
   "metadata": {
    "ExecuteTime": {
     "end_time": "2019-08-10T03:20:59.318449Z",
     "start_time": "2019-08-10T03:20:57.862882Z"
    }
   },
   "outputs": [],
   "source": [
    "for pair in target_elements_groups:\n",
    "    mins = []\n",
    "    abs_elts = []\n",
    "    for col in [col for col in mp_cols[pair] if col.has_mp_spectra()]:\n",
    "        for spec in col.mp_spectra:\n",
    "            spec = XAS_Spectrum.load_from_object(spec)\n",
    "            struc = spec.structure\n",
    "            abs_elts.append(spec.absorbing_element)\n",
    "            #print(set(abs_elts))\n",
    "            if spec.absorbing_element!=pair[0]:\n",
    "                print(spec.metadata)\n",
    "            mins.append(np.min(spec.x))\n",
    "    plt.hist(mins)\n",
    "    \n",
    "    plt.title(pair)\n",
    "    plt.show()#print(min(np.array(spec['x'])))\n",
    "    print(set(abs_elts))"
   ]
  },
  {
   "cell_type": "code",
   "execution_count": null,
   "metadata": {},
   "outputs": [],
   "source": []
  }
 ],
 "metadata": {
  "kernelspec": {
   "display_name": "Python 3",
   "language": "python",
   "name": "python3"
  },
  "language_info": {
   "codemirror_mode": {
    "name": "ipython",
    "version": 3
   },
   "file_extension": ".py",
   "mimetype": "text/x-python",
   "name": "python",
   "nbconvert_exporter": "python",
   "pygments_lexer": "ipython3",
   "version": "3.6.8"
  }
 },
 "nbformat": 4,
 "nbformat_minor": 2
}
