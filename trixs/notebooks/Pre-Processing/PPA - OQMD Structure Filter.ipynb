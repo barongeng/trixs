{
 "cells": [
  {
   "cell_type": "markdown",
   "metadata": {},
   "source": [
    "# OQMD Structure Filter\n",
    "# Goals:\n",
    "- Extract all OQMD structures which have the relevant target elements from the database provided by Murat Aykol. In this case, a transition metal and an oxygen atom.\n",
    "- Associate these OQMD structures to Bader charges provided by Brian Rohr.\n",
    "- Associate these OQMD structures to ICSD labels provided by Brian Rohr.\n",
    "\n",
    "\n",
    "## Uses:\n",
    "- Murat-provided OQMD database mirror, oqmd1.2_structs\n",
    "- Murat-provided OQMD energies mirror, oqmd1.2_energies\n",
    "- Brian-provided list of OQMD-ICSD associations\n",
    "- Brian-provifed listt of OQMD-Bader chg. Associations\n",
    "\n",
    "## Outputs:\n",
    "\n",
    "oqmd_{}\\_{}\\_collations.json: File containing the structures in XAS_Collation form, serialized as dictionaries using the as_dict() method built into MSONables. This is the preferred format for later steps in the pre-processing.\n",
    "\n",
    "##### Saved as well, but optional:\n",
    "oqmd_{}\\_{}\\_structures.json: File containing the structures in pymatgen Structure, serialized as dictionaries using the as_dict() method built in to Pymatgen structures.\n"
   ]
  },
  {
   "cell_type": "code",
   "execution_count": 1,
   "metadata": {
    "ExecuteTime": {
     "end_time": "2019-08-19T22:15:09.360290Z",
     "start_time": "2019-08-19T22:15:09.348267Z"
    }
   },
   "outputs": [],
   "source": [
    "import os\n",
    "\n",
    "data_prefix = '/Users/steventorrisi/Documents/TRIXS/data/'\n",
    "oqmd_struct_string = os.path.join(data_prefix,'oqmd1.2_structures/oqmd1.2.structs_')\n",
    "oqmd_nrg_string = os.path.join(data_prefix,'oqmd1.2_structures/oqmd1.2.energies_')\n",
    "oqmd_icsd_string = os.path.join(data_prefix,'oqmd1.2_structures/icsd_entry_id_mapping.csv')\n",
    "oqmd_bader_dir = os.path.join(data_prefix,'OQMD_bader')\n",
    "storage_directory = os.path.join(data_prefix,'Pre-Processing')\n",
    "\n",
    "# Will attempt to associate the \n",
    "associate_icsd = True\n",
    "associate_bader = True\n",
    "\n",
    "target_elements_groups=[('Co','O'),('Fe','O'),('V','O'),('Cu','O'),\n",
    "                        ('Ni','O'),('Cr','O'),('Mn','O'),('Ti','O')]\n",
    "target_metals = set(['Co','Fe','V','Cu','Ni','Cr','Mn','Ti'])\n",
    "O = set(['O'])\n",
    "# If exclusive, will only include structures with all of the elements in each tuple\n",
    "exclusive = True"
   ]
  },
  {
   "cell_type": "markdown",
   "metadata": {},
   "source": [
    "## Set up files"
   ]
  },
  {
   "cell_type": "code",
   "execution_count": 2,
   "metadata": {
    "ExecuteTime": {
     "end_time": "2019-08-19T22:15:11.080679Z",
     "start_time": "2019-08-19T22:15:09.362675Z"
    }
   },
   "outputs": [],
   "source": [
    "import json\n",
    "import os\n",
    "import numpy as np\n",
    "from tqdm import tqdm_notebook\n",
    "from pymatgen.core.structure import Structure\n",
    "from trixs.spectra.core import XAS_Collation\n",
    "\n",
    "# Load in and index ICSD ids\n",
    "with open(oqmd_icsd_string,'r') as f:\n",
    "    the_lines = [line.strip().split(',') for line in f.readlines()]\n",
    "    oqmd_to_icsd = {int(line[0]):line[1] for line in the_lines[1:]}\n"
   ]
  },
  {
   "cell_type": "markdown",
   "metadata": {},
   "source": [
    "### Loop through to find all structures which correspond to this chemistry"
   ]
  },
  {
   "cell_type": "code",
   "execution_count": 3,
   "metadata": {
    "ExecuteTime": {
     "end_time": "2019-08-19T22:16:21.375503Z",
     "start_time": "2019-08-19T22:15:11.083430Z"
    }
   },
   "outputs": [
    {
     "data": {
      "application/vnd.jupyter.widget-view+json": {
       "model_id": "b0efcb4524d54218a1e2788c81ef9b62",
       "version_major": 2,
       "version_minor": 0
      },
      "text/plain": [
       "HBox(children=(IntProgress(value=0, max=17), HTML(value='')))"
      ]
     },
     "metadata": {},
     "output_type": "display_data"
    },
    {
     "name": "stdout",
     "output_type": "stream",
     "text": [
      "\n",
      "Found: 1254  structures for  ('Co', 'O')\n",
      "Found: 1697  structures for  ('Fe', 'O')\n",
      "Found: 1819  structures for  ('V', 'O')\n",
      "Found: 1836  structures for  ('Cu', 'O')\n",
      "Found: 1221  structures for  ('Ni', 'O')\n",
      "Found: 1418  structures for  ('Cr', 'O')\n",
      "Found: 2251  structures for  ('Mn', 'O')\n",
      "Found: 1605  structures for  ('Ti', 'O')\n"
     ]
    }
   ],
   "source": [
    "filtered_structures = {pair:[] for pair in target_elements_groups}\n",
    "\n",
    "# Intervals define the individual file handles\n",
    "intervals = list(range(50000,850000,50000))\n",
    "intervals.append(824909)\n",
    "\n",
    "# Loop through individual files\n",
    "for interval in tqdm_notebook(intervals):\n",
    "    suffix = str(interval)+'.json'\n",
    "    struct_str = oqmd_struct_string + suffix\n",
    "    energy_str = oqmd_nrg_string + suffix\n",
    "    \n",
    "    strucs = json.load(open(struct_str,'r'))\n",
    "    energies = json.load(open(energy_str,'r'))\n",
    "    struc_ids = list(strucs.keys())\n",
    "    \n",
    "    # Main loop\n",
    "    for qmid,struc in strucs.items():\n",
    "        present_species = set([spec['label'] for spec in struc['sites']])\n",
    "        has_metals = bool(len(target_metals.intersection(present_species)))\n",
    "        is_oxide = O.issubset(present_species)\n",
    "        is_stable = energies[qmid] < 0       \n",
    "        # Decide if structure is relevant\n",
    "        if has_metals and is_oxide and is_stable:\n",
    "            for metal in target_metals:\n",
    "                if metal in present_species:\n",
    "                    # Generate OQMD ID string\n",
    "                    struc['id'] = 'oqmd-'+str(qmid)\n",
    "                    # Associate ICSD\n",
    "                    if associate_icsd:\n",
    "                        icsd = oqmd_to_icsd.get(int(qmid),None)\n",
    "                        struc['icsd'] = icsd\n",
    "                    # Associate Bader\n",
    "                    if associate_bader:\n",
    "                        bader_target = os.path.join(oqmd_bader_dir,str(qmid+'_charges.npy'))\n",
    "                        if os.path.exists(bader_target):\n",
    "                            struc['baders'] = list(np.load(bader_target))\n",
    "                    # Append to list\n",
    "                    filtered_structures[(metal,'O')].append(struc)\n",
    "for pair in target_elements_groups:\n",
    "    print(\"Found:\",len(filtered_structures[pair]),' structures for ',pair)"
   ]
  },
  {
   "cell_type": "markdown",
   "metadata": {},
   "source": [
    "# Write OQMD Structures\n",
    "Written in format where each structure is an individual json object in the Pymatgen Structure format. Load in using Pymatgen.core.Structure.from_dict() ."
   ]
  },
  {
   "cell_type": "code",
   "execution_count": 4,
   "metadata": {
    "ExecuteTime": {
     "end_time": "2019-08-19T22:18:06.703059Z",
     "start_time": "2019-08-19T22:16:21.378861Z"
    }
   },
   "outputs": [
    {
     "data": {
      "application/vnd.jupyter.widget-view+json": {
       "model_id": "d37049a545fe4d05a854f179fd397d13",
       "version_major": 2,
       "version_minor": 0
      },
      "text/plain": [
       "HBox(children=(IntProgress(value=0, max=8), HTML(value='')))"
      ]
     },
     "metadata": {},
     "output_type": "display_data"
    },
    {
     "name": "stdout",
     "output_type": "stream",
     "text": [
      "\n"
     ]
    },
    {
     "data": {
      "application/vnd.jupyter.widget-view+json": {
       "model_id": "aa49c1c563894e668f0fd6496e6aac48",
       "version_major": 2,
       "version_minor": 0
      },
      "text/plain": [
       "HBox(children=(IntProgress(value=0, max=8), HTML(value='')))"
      ]
     },
     "metadata": {},
     "output_type": "display_data"
    },
    {
     "name": "stdout",
     "output_type": "stream",
     "text": [
      "\n"
     ]
    }
   ],
   "source": [
    "# Write Collations (For future pre-processing use)\n",
    "for pair in tqdm_notebook(target_elements_groups):\n",
    "    file_name= \"{}_{}_OQMD_collations.json\".format(pair[0],pair[1])\n",
    "    write_target = os.path.join(storage_directory,file_name)\n",
    "    with open(write_target,'w') as f:\n",
    "        for struc in filtered_structures[pair]:\n",
    "            \n",
    "            cur_struc = Structure.from_dict(struc)\n",
    "            if struc.get('baders',None):\n",
    "                cur_baders = [(str(specie),bader) for specie,bader in zip(cur_struc.species,struc['baders'])]\n",
    "            else:\n",
    "                cur_baders = []\n",
    "            cur_col = XAS_Collation(structure = cur_struc,\n",
    "                                    oqmd_id = struc['id'],\n",
    "                                    icsd_ids = struc.get('icsd',None),\n",
    "                                    oqmd_bader = cur_baders)\n",
    "            f.write(json.dumps(cur_col.as_dict())+'\\n')\n",
    "\n",
    "# Write Structures (For optional use)\n",
    "for pair in tqdm_notebook(target_elements_groups):\n",
    "    file_name= \"{}_{}_OQMD_structures.json\".format(pair[0],pair[1])\n",
    "    write_target = os.path.join(storage_directory,file_name)\n",
    "    with open(write_target,'w') as f:\n",
    "        for struc in filtered_structures[pair]:\n",
    "            f.write(json.dumps(struc)+'\\n')\n",
    "            "
   ]
  },
  {
   "cell_type": "code",
   "execution_count": null,
   "metadata": {},
   "outputs": [],
   "source": []
  }
 ],
 "metadata": {
  "kernelspec": {
   "display_name": "Python 3",
   "language": "python",
   "name": "python3"
  },
  "language_info": {
   "codemirror_mode": {
    "name": "ipython",
    "version": 3
   },
   "file_extension": ".py",
   "mimetype": "text/x-python",
   "name": "python",
   "nbconvert_exporter": "python",
   "pygments_lexer": "ipython3",
   "version": "3.6.8"
  }
 },
 "nbformat": 4,
 "nbformat_minor": 2
}
