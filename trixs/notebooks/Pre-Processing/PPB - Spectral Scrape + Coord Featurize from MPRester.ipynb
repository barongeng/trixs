{
 "cells": [
  {
   "cell_type": "markdown",
   "metadata": {},
   "source": [
    "# Get the MP-Computed XANES Spectra for our Target Metals from the Mathew data and the Website\n",
    "\n",
    " # Goals:\n",
    "- Query the Materials Project database for spectra which correspond to MP IDs of transition metal oxides. \n",
    "- Save only those which pass sanity checks. \n",
    "- For structures which lack coordination number info, compute that exclusively for the absorbing atoms.\n",
    "- Write said spectra (to be post-processed further in future steps).\n",
    "\n",
    "\n",
    "In future steps, these will be associated with MP Collations.\n",
    "\n",
    "## Inputs:\n",
    "MP_{}\\_{}\\_{}API_collations.json: File containing the structures + associated Bader charges based on MP ID and Structure matching in XAS_collation form, serialized as dictionaries using the as_dict() method built into MSONables. Produced by PP-A.\n",
    "\n",
    "## Outputs:\n",
    "MP_{}\\_{}\\_scraped\\_spectra+coord.json: File containing the spectra scraped from the database which satisfy sanity checks, decorated with coordination number on the absorbing atoms."
   ]
  },
  {
   "cell_type": "code",
   "execution_count": null,
   "metadata": {
    "ExecuteTime": {
     "end_time": "2019-08-17T17:23:47.870979Z",
     "start_time": "2019-08-17T17:23:46.646736Z"
    }
   },
   "outputs": [],
   "source": [
    "import os\n",
    "from pymatgen.ext.matproj import MPRester\n",
    "data_prefix = '/Users/steventorrisi/Documents/TRIXS/data/'\n",
    "storage_directory = os.path.join(data_prefix,'MP_OQMD_combined')\n",
    "\n",
    "target_elements_groups=[('Co','O'),('Fe','O'),('V','O'),('Cu','O'),\n",
    "                        ('Ni','O'),('Cr','O'),('Mn','O'),('Ti','O')]\n",
    "target_metals = set(['Co','Ni','Fe','Cr','V','Mn','Cu','Ti'])\n",
    "mpr = MPRester('80n2gkFfpXbPxZJTxD')"
   ]
  },
  {
   "cell_type": "markdown",
   "metadata": {},
   "source": [
    "## Import necessary items"
   ]
  },
  {
   "cell_type": "code",
   "execution_count": null,
   "metadata": {
    "ExecuteTime": {
     "end_time": "2019-08-17T17:23:48.053707Z",
     "start_time": "2019-08-17T17:23:47.874182Z"
    }
   },
   "outputs": [],
   "source": [
    "from pymatgen.core import Structure\n",
    "from trixs.spectra.core import XAS_Spectrum, spectrum_sanity_check\n",
    "from tqdm import tqdm_notebook\n",
    "from pprint import pprint\n",
    "import json\n",
    "import numpy as np\n",
    "from monty.json import MSONable\n",
    "import gc\n",
    "import matplotlib.pyplot as plt\n",
    "from pymatgen.analysis.local_env import CrystalNN\n",
    "\n"
   ]
  },
  {
   "cell_type": "markdown",
   "metadata": {},
   "source": [
    "#  Load Pre-computed MP IDs\n",
    "\n",
    "Loop through the MP structures obtained from the written output of an earlier scrape from the materials project API.\n",
    "For each of those structures, index the structures as XANES collation objects."
   ]
  },
  {
   "cell_type": "code",
   "execution_count": null,
   "metadata": {
    "ExecuteTime": {
     "end_time": "2019-08-17T17:23:53.566356Z",
     "start_time": "2019-08-17T17:23:48.056234Z"
    }
   },
   "outputs": [],
   "source": [
    "mp_ids = {pair:[] for pair in target_elements_groups}\n",
    "for pair in tqdm_notebook(target_elements_groups):\n",
    "    file_name = '{}_{}_MP_API_collations.json'.format(pair[0],pair[1])\n",
    "    read_target = os.path.join(storage_directory,file_name)\n",
    "    with open(read_target,'r') as f:\n",
    "        for line in f.readlines():\n",
    "            mp_ids[pair].append(json.loads(line)['mp_id'])\n",
    "    print(\"Loaded in {} for {}\".format(len(mp_ids[pair]),pair))"
   ]
  },
  {
   "cell_type": "markdown",
   "metadata": {},
   "source": [
    "## Scrape spectra by quering via the MP Rester using the MP IDs.\n",
    "Check to see that absorbing atoms have coordination number; if not, decorate them with CNN\n",
    "(ETA: 2.5 minutes per 1000 materials)"
   ]
  },
  {
   "cell_type": "code",
   "execution_count": null,
   "metadata": {
    "ExecuteTime": {
     "end_time": "2019-08-17T17:29:29.345976Z",
     "start_time": "2019-08-17T17:29:25.626991Z"
    }
   },
   "outputs": [],
   "source": [
    "cnn = CrystalNN(distance_cutoffs = None)\n",
    "num_scraped = {pair:0 for pair in target_elements_groups}\n",
    "for pair in target_elements_groups:\n",
    "    write_target = 'MP_OQMD_combined/{}_{}_scraped_spectra+coord.json'.format(pair[0],pair[1])\n",
    "    scrape_path = os.path.join(data_prefix,write_target)\n",
    "    target_metal = pair[0]\n",
    "\n",
    "    with open(scrape_path,'w') as f:\n",
    "        for mp_id in tqdm_notebook(mp_ids[pair], desc=\"Downloading {}\".format(pair)):\n",
    "            doc = mpr.get_data(mp_id,data_type='feff',prop='xas')[0]\n",
    "            if len(doc['xas'])==0:\n",
    "                continue\n",
    "                \n",
    "            for xas in doc['xas']:\n",
    "                abs_idx = xas['absorbing_atom']\n",
    "                struc= xas['structure'].as_dict()\n",
    "                N = len(xas['structure'])\n",
    "                elements = [str(struc['sites'][i]['label']) for i in range(N)]\n",
    "                spec = xas['spectrum']\n",
    "                \n",
    "                if len(spec) == 0 \\\n",
    "                    or xas.get('xas_id','')=='ELNES' \\\n",
    "                    or (len(spec) == 2 and len(spec[0]) == 0) \\\n",
    "                    or elements[abs_idx] != target_metal:\n",
    "                    continue\n",
    "                \n",
    "                \n",
    "                \n",
    "                if not struc['sites'][abs_idx]['properties'].get('coordination_no',False):\n",
    "                    cur_coord = cnn.get_cn(xas['structure'],abs_idx)\n",
    "                    xas['structure'].sites[abs_idx].properties['coordination_no'] = cur_coord\n",
    "\n",
    "                metadata = {'id':mp_id, 'origin':'scrape'}\n",
    "                new_spec = XAS_Spectrum.from_atomate_document(xas)\n",
    "                # Catch negative values\n",
    "                if not new_spec.sanity_check():\n",
    "                    continue\n",
    "                new_spec.metadata = metadata\n",
    "                f.write(json.dumps(new_spec.as_dict())+'\\n')\n",
    "                num_scraped[pair] +=1\n",
    "                #print('ding')\n",
    "    \n",
    "    print(pair,num_scraped[pair])"
   ]
  },
  {
   "cell_type": "code",
   "execution_count": null,
   "metadata": {},
   "outputs": [],
   "source": []
  }
 ],
 "metadata": {
  "kernelspec": {
   "display_name": "Python 3",
   "language": "python",
   "name": "python3"
  },
  "language_info": {
   "codemirror_mode": {
    "name": "ipython",
    "version": 3
   },
   "file_extension": ".py",
   "mimetype": "text/x-python",
   "name": "python",
   "nbconvert_exporter": "python",
   "pygments_lexer": "ipython3",
   "version": "3.6.8"
  }
 },
 "nbformat": 4,
 "nbformat_minor": 2
}
