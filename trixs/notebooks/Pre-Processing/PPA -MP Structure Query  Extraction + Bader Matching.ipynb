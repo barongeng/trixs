{
 "cells": [
  {
   "cell_type": "markdown",
   "metadata": {},
   "source": [
    "# MP Structure Filter\n",
    "# Goals:\n",
    "- Query all MP structures which have the relevant target elements from the Materials Project Database, using the Materials Project API.\n",
    "\n",
    "## Inputs:\n",
    "- Joey's Bader MP Charge data; Use the MP Bader Charges ipython notebook in the data folder to set up a local MongoDB which can query it\n",
    "## Outputs:\n",
    "MP_{}\\_{}\\_API\\_collations.json: File containing the structures + associated Bader charges based on MP ID and Structure matching in XAS_collation form, serialized as dictionaries using the as_dict() method built into MSONables. This is the preferred format for later steps in the pre-processing.\n",
    "##### Optional:\n",
    "MP_{}\\_{}\\_API\\_structures.json: File containing the structures in pymatgen Structure, \n",
    "serialized as dictionaries using the as_dict() method built in to Pymatgen structures."
   ]
  },
  {
   "cell_type": "code",
   "execution_count": null,
   "metadata": {
    "ExecuteTime": {
     "end_time": "2019-08-19T22:51:18.881007Z",
     "start_time": "2019-08-19T22:51:18.865596Z"
    }
   },
   "outputs": [],
   "source": [
    "import os\n",
    "data_prefix = '/Users/steventorrisi/Documents/TRIXS/data/'\n",
    "storage_directory = os.path.join(data_prefix,'Pre-Processing')\n"
   ]
  },
  {
   "cell_type": "code",
   "execution_count": null,
   "metadata": {
    "ExecuteTime": {
     "end_time": "2019-08-19T22:51:21.168116Z",
     "start_time": "2019-08-19T22:51:18.885056Z"
    }
   },
   "outputs": [],
   "source": [
    "from pymatgen.ext.matproj import MPRester\n",
    "from tqdm import tqdm, tqdm_notebook\n",
    "import json\n",
    "\n",
    "from trixs.spectra.core import XAS_Collation\n",
    "from pymatgen.core.structure import Structure\n",
    "from pymatgen.analysis.structure_matcher import StructureMatcher, ElementComparator\n",
    "\n",
    "# My MP id... please use wisely :)\n",
    "mpr = MPRester('80n2gkFfpXbPxZJTxD')\n",
    "# NB if you add more, ENSURE THE FIRST ATOM IS THE METAL\n",
    "target_elements_groups=[('Co','O'),('Fe','O'),('V','O'),('Cu','O'),\n",
    "                        ('Ni','O'),('Cr','O'),('Mn','O'),('Ti','O')]\n",
    "target_metals = set(['Co','Fe','V','Cu','Ni','Cr','Mn','Ti'])\n",
    "O = set(['O'])\n"
   ]
  },
  {
   "cell_type": "markdown",
   "metadata": {},
   "source": [
    "## Connect to local MongoDB with Bader Chg information\n",
    "\n",
    "Mount Mongo DB in order to associate MP with Charges, and instantiate structure matcher"
   ]
  },
  {
   "cell_type": "code",
   "execution_count": null,
   "metadata": {
    "ExecuteTime": {
     "end_time": "2019-08-19T22:51:54.229276Z",
     "start_time": "2019-08-19T22:51:21.172306Z"
    }
   },
   "outputs": [],
   "source": [
    "from pymongo import MongoClient\n",
    "conn = MongoClient()\n",
    "bader = conn.vasp_jhm_test.bader_refined\n",
    "all_charges = {struc['original_task_id']:struc for struc in bader.find()}\n",
    "matcher = StructureMatcher(comparator = ElementComparator(),attempt_supercell= True)\n",
    "\n"
   ]
  },
  {
   "cell_type": "code",
   "execution_count": null,
   "metadata": {
    "ExecuteTime": {
     "end_time": "2019-08-19T22:51:54.267372Z",
     "start_time": "2019-08-19T22:51:54.233055Z"
    }
   },
   "outputs": [],
   "source": [
    "def bader_doc_to_colls(doc):\n",
    "    \"\"\"\n",
    "    From a bader document from the database, return a list of collations\n",
    "    using the multiple structures associated with each Bader document (typically\n",
    "    different stages of relaxation).\n",
    "    \"\"\"\n",
    "    colls = []\n",
    "    mp_id = doc['original_task_id']\n",
    "    for struc in doc['structures']:\n",
    "        cur_struc = Structure.from_dict(struc)\n",
    "        cur_baders = [cur_struc.sites[i].as_dict()['species'][0]['oxidation_state'] \n",
    "                               for i in range(len(cur_struc.sites))]\n",
    "        cur_species = [cur_struc.sites[i].as_dict()['species'][0]['element']\n",
    "               for i in range(len(cur_struc.sites))]\n",
    "        cur_oxy = [(spec,oxy) for spec, oxy in zip(cur_species,cur_baders)]\n",
    "        new_col = XAS_Collation(structure=cur_struc, mp_bader = cur_oxy, mp_id = mp_id )\n",
    "        new_col.elements = set(cur_species)\n",
    "        colls.append(new_col)\n",
    "    return colls\n",
    "\n",
    "def match_bader_by_id(all_charges, mp_id, structure):\n",
    "        # Check to see if the bader charges exist for the current collations's MP id\n",
    "        bader_mp_doc = all_charges.get(mp_id,None)\n",
    "        if not bader_mp_doc:\n",
    "            return []\n",
    "        # Look at each bader charge analyzed MP structure individually,\n",
    "        # since each Bader object has multiple structures associated with it\n",
    "        for bader_struc_dict in bader_mp_doc['structures']:\n",
    "            bader_struc = Structure.from_dict(bader_struc_dict)\n",
    "            # If structure match works, assign charge then break to next MP structure\n",
    "            if matcher.fit(structure,bader_struc):\n",
    "                species = [bader_struc.sites[i].as_dict()['species'][0]['element'] \n",
    "                               for i in range(len(bader_struc.sites))]\n",
    "                baders = [bader_struc.sites[i].as_dict()['species'][0]['oxidation_state'] \n",
    "                               for i in range(len(bader_struc.sites))]\n",
    "                return [(spec,oxy) for spec,oxy in zip(species,baders)]\n",
    "            \n",
    "def match_bader_by_structure(bader_candidate_cols,mp_id,structure):\n",
    "    # Helper function to match via structure similarity\n",
    "    present_species = set([str(site.specie) for site in structure.sites])\n",
    "    mp_oxy_candidates = [x for x in bader_candidate_cols if\n",
    "                         present_species==x.elements\n",
    "                         and x.mp_id != mp_id]\n",
    "    for candidate in mp_oxy_candidates:\n",
    "        cand_struc = candidate.structure\n",
    "        if matcher.fit(structure,cand_struc):\n",
    "            return candidate.mp_bader, candidate.mp_id\n",
    "    return [], None"
   ]
  },
  {
   "cell_type": "markdown",
   "metadata": {},
   "source": [
    "## Query MP Server"
   ]
  },
  {
   "cell_type": "code",
   "execution_count": null,
   "metadata": {
    "ExecuteTime": {
     "end_time": "2019-08-19T23:22:00.249540Z",
     "start_time": "2019-08-19T22:51:54.275457Z"
    }
   },
   "outputs": [],
   "source": [
    "for pair in target_elements_groups:\n",
    "    data = mpr.query(criteria = {'elements':{\"$all\":pair}},\n",
    "                     properties=['final_structure','formation_energy_per_atom',\n",
    "                                 'energy','task_id','icsd_ids','icsd'])\n",
    "    \n",
    "    file_name = '{}_{}_MP_API_collations.json'.format(pair[0],pair[1])\n",
    "    write_target = os.path.join(storage_directory,file_name)\n",
    "    \n",
    "    # Prepare candidate bader candidates for all pair sets\n",
    "    pairset = set(pair)\n",
    "    bader_candidate_docs = [doc for doc in list(all_charges.values()) if pairset.issubset(set(doc['elements']))]\n",
    "    bader_candidate_cols = []\n",
    "    for doc in bader_candidate_docs:\n",
    "        bader_candidate_cols += bader_doc_to_colls(doc)  \n",
    "    matched_by_structure = 0\n",
    "    matched_by_id = 0 \n",
    "    with open(write_target,'w') as f:\n",
    "        for dat in tqdm_notebook(data,desc='Matching Bader, writing for {}'.format(pair)):\n",
    "            cur_struc = dat['final_structure']\n",
    "            cur_mpid = dat['task_id']\n",
    "            cur_icsds = dat['icsd_ids']\n",
    "            cur_bader = match_bader_by_id(all_charges,cur_mpid,cur_struc)\n",
    "            if not cur_bader:\n",
    "                cur_bader,assoc_id = match_bader_by_structure(bader_candidate_cols,\n",
    "                                                    cur_mpid, cur_struc)\n",
    "                if cur_bader:\n",
    "                    matched_by_structure += 1\n",
    "            else:\n",
    "                matched_by_id +=1 \n",
    "\n",
    "            cur_col = XAS_Collation(structure = cur_struc,\n",
    "                                   mp_id = cur_mpid,\n",
    "                                   icsd_ids = cur_icsds,\n",
    "                                   mp_bader = cur_bader)\n",
    "            \n",
    "            f.write(json.dumps(cur_col.as_dict()) + '\\n')\n",
    "    file_name = '{}_{}_MP_API_structures.json'.format(pair[0],pair[1])\n",
    "    write_target = os.path.join(storage_directory,file_name)          \n",
    "    print('Bader charges matched by structure:',matched_by_structure)\n",
    "    print('Bader charges matched by ID:',matched_by_id)\n",
    "\n",
    "    with open(write_target,'w') as f:\n",
    "        for dat in tqdm_notebook(data,desc='Writing {}'.format(pair)):\n",
    "            cur_struc = dat['final_structure'].as_dict()\n",
    "            cur_mpid = dat['task_id']            \n",
    "            f.write(json.dumps({'structure':cur_struc,'id':cur_mpid}) + '\\n')\n"
   ]
  },
  {
   "cell_type": "code",
   "execution_count": null,
   "metadata": {},
   "outputs": [],
   "source": []
  }
 ],
 "metadata": {
  "kernelspec": {
   "display_name": "Python 3",
   "language": "python",
   "name": "python3"
  },
  "language_info": {
   "codemirror_mode": {
    "name": "ipython",
    "version": 3
   },
   "file_extension": ".py",
   "mimetype": "text/x-python",
   "name": "python",
   "nbconvert_exporter": "python",
   "pygments_lexer": "ipython3",
   "version": "3.6.8"
  }
 },
 "nbformat": 4,
 "nbformat_minor": 2
}
