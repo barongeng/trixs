{
 "cells": [
  {
   "cell_type": "markdown",
   "metadata": {},
   "source": [
    "# Combining MP and OQMD Collations, Matching Like Bader Charges\n",
    "\n",
    "## Goals: \n",
    "- Identify MP / OQMD collations with the same strucutre in order to compare bader charges.\n",
    "- Do this by structure matching and by ICSD number.\n",
    "- Identify redundant OQMD structures in order to know which to prioritize computing spectra for.\n",
    "\n",
    "## Inputs:\n",
    "- {}\\_{}\\_MP_API+Spec+Symm_collations.json: The collations of MP structures which have been decorated with spectra and symmetrized.\n",
    "- {}\\_{}\\_OQMD_collations.json: The collations of OQMD structures.\n",
    "\n",
    "## Outputs: \n",
    "- {}\\_{}\\_MP_OQMD_combined_collations.json : Collations of MP / OQMD structures which have been pruned for redundant structures, with matched MP / Bader charges."
   ]
  },
  {
   "cell_type": "code",
   "execution_count": null,
   "metadata": {
    "ExecuteTime": {
     "end_time": "2019-08-10T03:33:50.796080Z",
     "start_time": "2019-08-10T03:33:50.620202Z"
    }
   },
   "outputs": [],
   "source": [
    "import os\n",
    "from pymatgen.ext.matproj import MPRester\n",
    "data_prefix = '/Users/steventorrisi/Documents/TRIXS/data/'\n",
    "storage_directory = os.path.join(data_prefix,'MP_OQMD_combined')\n",
    "\n",
    "target_elements_groups=[('Co','O'),('Fe','O'),('V','O'),('Cu','O'),\n",
    "                        ('Ni','O'),('Cr','O'),('Mn','O'),('Ti','O')]\n",
    "target_metals = set(['Co','Ni','Fe','Cr','V','Mn','Cu','Ti'])\n",
    "mpr = MPRester('80n2gkFfpXbPxZJTxD')"
   ]
  },
  {
   "cell_type": "code",
   "execution_count": null,
   "metadata": {
    "ExecuteTime": {
     "end_time": "2019-08-10T03:33:50.859937Z",
     "start_time": "2019-08-10T03:33:50.815004Z"
    }
   },
   "outputs": [],
   "source": [
    "from pymatgen.ext.matproj import MPRester\n",
    "from pymatgen.core import Structure\n",
    "from pymatgen.analysis.structure_matcher import StructureMatcher, ElementComparator\n",
    "from trixs.spectra.core import XAS_Spectrum, XAS_Collation\n",
    "from trixs.spectra.util import NumpyEncoder\n",
    "from tqdm import tqdm, tqdm_notebook\n",
    "from pprint import pprint\n",
    "import json\n",
    "import os\n",
    "import numpy as np\n",
    "\n",
    "matcher = StructureMatcher(comparator = ElementComparator())\n",
    "def get_unique_structures(structures,**kwargs):\n",
    "    \"\"\"Gets unique structures from a list of structures using structure matcher\"\"\"\n",
    "    unique_structs = []\n",
    "    structure_matcher = StructureMatcher(attempt_supercell=True,\n",
    "                            comparator = ElementComparator(),**kwargs)\n",
    "    for new_struct in tqdm_notebook(structures, desc='reducing structures'):\n",
    "        if not any([structure_matcher.fit(new_struct, struct) for struct in unique_structs]):\n",
    "            unique_structs.append(new_struct)\n",
    "    return unique_structs"
   ]
  },
  {
   "cell_type": "markdown",
   "metadata": {
    "ExecuteTime": {
     "start_time": "2019-08-09T01:48:03.865Z"
    }
   },
   "source": [
    "Helper Functions"
   ]
  },
  {
   "cell_type": "code",
   "execution_count": null,
   "metadata": {
    "ExecuteTime": {
     "end_time": "2019-08-10T03:33:50.888558Z",
     "start_time": "2019-08-10T03:33:50.867054Z"
    }
   },
   "outputs": [],
   "source": [
    "def determine_uniqueness(strucs1,struc2):\n",
    "    structure_matcher = StructureMatcher(attempt_supercell=True,\n",
    "                        comparator = ElementComparator())\n",
    "    for struc in strucs1:\n",
    "        if structure_matcher.fit(struc,struc2):\n",
    "            return False\n",
    "    return True\n",
    "\n",
    "def trim_non_alpha(string):\n",
    "    return ''.join([x for x in string if x.isalpha()])"
   ]
  },
  {
   "cell_type": "markdown",
   "metadata": {},
   "source": [
    "## Load the MP collations into 'unified collations' and OQMD ones to be sorted in after"
   ]
  },
  {
   "cell_type": "code",
   "execution_count": null,
   "metadata": {
    "ExecuteTime": {
     "end_time": "2019-08-10T03:37:00.605036Z",
     "start_time": "2019-08-10T03:33:50.898520Z"
    }
   },
   "outputs": [],
   "source": [
    "unif_cols = {pair: [] for pair in target_elements_groups}\n",
    "oqmd_cols  = {pair: [] for pair in target_elements_groups}\n",
    "for pair in tqdm_notebook(target_elements_groups,desc='Parsing {}'.format(pair)):\n",
    "    mp_collation_file = storage_directory+ \"/{}_{}_MP_API+Spec+Symm_collations.json\".format(pair[0],pair[1])\n",
    "    with open(mp_collation_file,'r') as f:\n",
    "        the_lines = f.readlines()\n",
    "        for line in the_lines:\n",
    "            col = XAS_Collation.from_dict(json.loads(line.strip()))\n",
    "            unif_cols[pair].append(col)\n",
    "    oqmd_collation_file = storage_directory+ \"/{}_{}_OQMD_collations.json\".format(pair[0],pair[1])\n",
    "    with open(oqmd_collation_file,'r') as f:\n",
    "        the_lines = f.readlines()\n",
    "        for line in the_lines:\n",
    "            cur_dict = json.loads(line.strip())\n",
    "            col = XAS_Collation.from_dict(json.loads(line.strip()))\n",
    "            oqmd_cols[pair].append(col)"
   ]
  },
  {
   "cell_type": "markdown",
   "metadata": {},
   "source": [
    "## Match Bader charges by ICSD"
   ]
  },
  {
   "cell_type": "code",
   "execution_count": null,
   "metadata": {
    "ExecuteTime": {
     "end_time": "2019-08-10T03:37:13.676655Z",
     "start_time": "2019-08-10T03:37:00.606344Z"
    }
   },
   "outputs": [],
   "source": [
    "for pair in target_elements_groups:    \n",
    "    mp_by_icsd = {None : None}\n",
    "    # Index MP collations by their ICSD ids\n",
    "    for mp_col in [col for col in unif_cols[pair] if col.has_mp_bader()]:     \n",
    "        cur_icsds = mp_col.icsd_ids if mp_col.icsd_ids else [None]\n",
    "        for icsd in cur_icsds:\n",
    "            mp_by_icsd[icsd] = mp_col\n",
    "    # Match OQMD collations to MP by  ICSDs\n",
    "    for oqmd_col in [col for col in oqmd_cols[pair] if col.has_oqmd_bader()]:     \n",
    "        cur_icsd = oqmd_col.icsd_ids\n",
    "        icsd_num = int(cur_icsd.split('-')[1]) if cur_icsd else None\n",
    "        mp_col = mp_by_icsd.get(icsd_num,None)\n",
    "        # Check for matches\n",
    "        if cur_icsd and mp_col:\n",
    "            oqmd_struc = oqmd_col.structure\n",
    "            mp_struc = mp_col.structure\n",
    "            if matcher.fit(oqmd_struc,mp_struc):# and sites_are_ordered(oqmd_struc,mp_struc):\n",
    "                mp_col.oqmd_id = oqmd_col.oqmd_id      \n",
    "                mp_col.associated_ids[oqmd_col.oqmd_id] = 'bader'\n",
    "                \n",
    "                #oqmd_specs = [oqmd_struc.sites[i].as_dict()['species'][0]['element'] \n",
    "                #               for i in range(len(oqmd_struc.sites))]\n",
    "                #oqmd_bader = oqmd_col.oqmd_bader#[oqmd_struc.sites[i].as_dict()['species'][0]['oxidation_state'] \n",
    "                             #      for i in range(len(oqmd_struc.sites))]\n",
    "                mp_col.oqmd_bader = oqmd_col.oqmd_bader #[(spec,bader) for spec,bader in zip(oqmd_specs,oqmd_bader)]\n",
    "    new_matches = [col for col in unif_cols[pair] if col.has_oqmd_bader()]\n",
    "    print('For {}, we found {} MP structures and {} OQMD, '\n",
    "          'with ICSD-based overlap of {}.'.format(pair,\n",
    "                    len(unif_cols[pair]),len(oqmd_cols[pair]),len(new_matches)))\n",
    "   \n"
   ]
  },
  {
   "cell_type": "markdown",
   "metadata": {},
   "source": [
    "# Match MP - OQMD by Structure Matching\n",
    "## to associate Bader charges \n",
    "## and find redundant structures\n",
    "We attempt to match OQMD bader charges into MP structures for two reasons.\n",
    "\n",
    "1. We count structures which weren't matched by ICSD previously.\n",
    "2. If the structures match, that means we have a duplicate between MP and OQMD; thus, we will not carry the OQMD forward.\n",
    "3. If the structures match, then the MP structure will get to have an OQMD bader charge associated; this will be useful for later regression.\n",
    "\n",
    "This also means that we have a duplicate between OQMD and MP; so, we should not carry the OQMD structure forward.\n",
    "\n"
   ]
  },
  {
   "cell_type": "code",
   "execution_count": null,
   "metadata": {
    "ExecuteTime": {
     "end_time": "2019-08-10T03:40:46.864538Z",
     "start_time": "2019-08-10T03:37:13.678407Z"
    }
   },
   "outputs": [],
   "source": [
    "redundant_oqmds = set()\n",
    "for pair in target_elements_groups:\n",
    "    newly_found = 0 \n",
    "    for col in tqdm_notebook(unif_cols[pair], desc= str(pair)):\n",
    "        \n",
    "        oqmd_bader_candidates = [ x for x in oqmd_cols[pair]if \\\n",
    "                              col.elements==x.elements \\\n",
    "                                and x.mp_id ==None]\n",
    "        \n",
    "        for candidate in oqmd_bader_candidates:\n",
    "            cand_struc = candidate.structure\n",
    "            if matcher.fit(col.structure,cand_struc):\n",
    "                redundant_oqmds.add(candidate.oqmd_id)\n",
    "                if candidate.has_oqmd_bader():\n",
    "                    \n",
    "                    col.oqmd_bader = candidate.oqmd_bader\n",
    "                    col.associated_ids[candidate.oqmd_id] = 'bader'\n",
    "                    newly_found+=1\n",
    "                    candidate.mp_id = col.mp_id\n",
    "                    break\n",
    "        \n",
    "    unif_cols[pair]+= [col for col in oqmd_cols[pair] if col.oqmd_id not in redundant_oqmds]\n",
    "    print(\"Found for {} {} redundant OQMD structures.\".format(pair,newly_found))\n",
    "    print(\"Found for {} {} total MP_OQMD collations.\".format(pair,len(unif_cols[pair])))\n"
   ]
  },
  {
   "cell_type": "code",
   "execution_count": null,
   "metadata": {
    "ExecuteTime": {
     "end_time": "2019-08-10T03:40:47.129846Z",
     "start_time": "2019-08-10T03:40:46.866449Z"
    }
   },
   "outputs": [],
   "source": [
    "for pair in target_elements_groups:\n",
    "    print('------')\n",
    "    print(\"Summary for {}\".format(pair))\n",
    "    print(\"Total collations:\",len(unif_cols[pair]))\n",
    "    print(\"Total Novel OQMD structures (Bader incl.):\",len([col for col in unif_cols[pair] if not col.mp_id]))\n",
    "    print(\"Number of Bader charges from MP:\",len([col for col in unif_cols[pair] if col.has_mp_bader()]),'/', len(unif_cols[pair]))\n",
    "    print(\"Number of Bader charges from OQMD:\",len([col for col in unif_cols[pair] if col.has_oqmd_bader()]))\n",
    "    print(\"Structures with both OQMD / MP Bader chg:\",len([col for col in unif_cols[pair] \n",
    "                                       if (col.has_oqmd_bader() and col.has_mp_bader())]))\n",
    "    print(\"Structures with any Bader chg:\",len([col for col in unif_cols[pair] \n",
    "                                       if col.has_bader()]))"
   ]
  },
  {
   "cell_type": "code",
   "execution_count": null,
   "metadata": {
    "ExecuteTime": {
     "start_time": "2019-08-10T03:40:59.554Z"
    }
   },
   "outputs": [],
   "source": [
    "suffix = '_MP_OQMD_combined_collations.json'\n",
    "for pair in tqdm_notebook(target_elements_groups):\n",
    "    target = storage_directory + \"/{}_{}\".format(pair[0],pair[1])+ suffix\n",
    "    \n",
    "    with open(target,'w') as f:\n",
    "        for col in unif_cols[pair]:\n",
    "            f.write(json.dumps(col.as_dict())+'\\n')"
   ]
  },
  {
   "cell_type": "code",
   "execution_count": null,
   "metadata": {},
   "outputs": [],
   "source": []
  }
 ],
 "metadata": {
  "kernelspec": {
   "display_name": "Python 3",
   "language": "python",
   "name": "python3"
  },
  "language_info": {
   "codemirror_mode": {
    "name": "ipython",
    "version": 3
   },
   "file_extension": ".py",
   "mimetype": "text/x-python",
   "name": "python",
   "nbconvert_exporter": "python",
   "pygments_lexer": "ipython3",
   "version": "3.6.8"
  }
 },
 "nbformat": 4,
 "nbformat_minor": 2
}
