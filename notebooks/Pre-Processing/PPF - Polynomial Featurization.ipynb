{
 "cells": [
  {
   "cell_type": "markdown",
   "metadata": {},
   "source": [
    "# Featurize spectra previously written by using polynomials\n",
    "\n",
    "### Goals:\n",
    "- Generate polynomial featurized XY files\n",
    "\n",
    "## Inputs:\n",
    "- {}\\_{}\\_XY.json\n",
    "\n",
    "## Outputs:\n",
    " - {}\\_{}\\_polynomials_XY.json"
   ]
  },
  {
   "cell_type": "code",
   "execution_count": 4,
   "metadata": {
    "ExecuteTime": {
     "end_time": "2019-08-21T05:31:24.758174Z",
     "start_time": "2019-08-21T05:31:24.738001Z"
    }
   },
   "outputs": [],
   "source": [
    "target_elements_groups=[('Co','O'),('Fe','O'),('V','O'),('Cu','O'),\n",
    "                        ('Ni','O'),('Cr','O'),('Mn','O'),('Ti','O')]\n",
    "target_metals = set(['Co','Ni','Fe','Cr','V','Mn','Cu','Ti'])\n",
    "target_elements_sets =[set(pair) for pair in target_elements_groups]\n",
    "write_pre_post = True"
   ]
  },
  {
   "cell_type": "code",
   "execution_count": 5,
   "metadata": {
    "ExecuteTime": {
     "end_time": "2019-08-21T05:31:25.011256Z",
     "start_time": "2019-08-21T05:31:24.984682Z"
    }
   },
   "outputs": [
    {
     "name": "stdout",
     "output_type": "stream",
     "text": [
      "The autoreload extension is already loaded. To reload it, use:\n",
      "  %reload_ext autoreload\n"
     ]
    }
   ],
   "source": [
    "%load_ext autoreload\n",
    "%autoreload 2\n",
    "from pymatgen.ext.matproj import MPRester\n",
    "from pymatgen.core import Structure\n",
    "from pymatgen.analysis.structure_matcher import StructureMatcher, ElementComparator\n",
    "from trixs.spectra.core import XAS_Spectrum, XAS_Collation\n",
    "from trixs.spectra.util import NumpyEncoder\n",
    "import matplotlib\n",
    "from tqdm import tqdm, tqdm_notebook\n",
    "from pprint import pprint\n",
    "import json\n",
    "import os\n",
    "import numpy as np\n",
    "import matplotlib.pyplot as plt\n",
    "from trixs.spectra.spectrum_featurize import polynomialize_by_idx\n",
    "from pandas import DataFrame\n",
    "storage_directory = '/Users/steventorrisi/Documents/TRIXS/data/MP_OQMD_combined'\n"
   ]
  },
  {
   "cell_type": "code",
   "execution_count": 6,
   "metadata": {
    "ExecuteTime": {
     "end_time": "2019-08-21T05:31:30.440770Z",
     "start_time": "2019-08-21T05:31:25.564565Z"
    }
   },
   "outputs": [],
   "source": [
    "data_by_pair = {pair:[] for pair in target_elements_groups}\n",
    "for pair in target_elements_groups:\n",
    "    file_target = storage_directory+'/{}_{}_XY.json'.format(pair[0],pair[1])\n",
    "    with open(file_target,'r') as f:\n",
    "        data_by_pair[pair] = [json.loads(line) for line in f.readlines()]\n"
   ]
  },
  {
   "cell_type": "markdown",
   "metadata": {},
   "source": [
    "## Don't split by pre/ post edge region"
   ]
  },
  {
   "cell_type": "code",
   "execution_count": 7,
   "metadata": {
    "ExecuteTime": {
     "end_time": "2019-08-21T05:31:30.489700Z",
     "start_time": "2019-08-21T05:31:30.443504Z"
    }
   },
   "outputs": [],
   "source": [
    "polynomials_by_pair = {pair:[] for pair in target_elements_groups}\n",
    "\n",
    "    \n",
    "for pair in target_elements_groups:\n",
    "    if write_pre_post:\n",
    "        continue\n",
    "    for dat in tqdm_notebook(data_by_pair[pair]):\n",
    "        cur_spec = XAS_Spectrum(dat['E'],dat['mu'])\n",
    "        cur_spec.normalize('max')\n",
    "        poly_set = {}\n",
    "        labeled_coefficients = {}\n",
    "        for n in [1,2,4,5,10,20]:\n",
    "            poly_set[n] = polynomialize_by_idx(cur_spec.x,cur_spec.y,N=n,deg=3)\n",
    "            for poly in poly_set[n]:\n",
    "                for i, coef in enumerate(poly.coef):\n",
    "                    coefficient_label = 'loc:all,'+poly.label +',coef:' +str(i)\n",
    "                    labeled_coefficients[coefficient_label] = coef\n",
    "        dat['labeled_coefficients'] = labeled_coefficients\n",
    "        #pprint(cur_polys)\n",
    "        #pprint(dat)\n",
    "        #assert False\n",
    "        \n",
    "    target_file = storage_directory + '/{}_{}_polynomials_XY.json'.format(pair[0],pair[1])\n",
    "    with open(target_file,'w') as f:\n",
    "        for dat in data_by_pair[pair]:\n",
    "            write_data = {}\n",
    "            write_data['labeled_coefficients'] = dat['labeled_coefficients']\n",
    "            write_data['coordination'] = dat['coordination']\n",
    "            write_data['one_hot_coord'] = dat['one_hot_coord']\n",
    "            write_data['bader'] = dat['bader']\n",
    "            f.write(json.dumps(write_data) + '\\n')\n",
    "            \n",
    "            #f.write()\n",
    "        "
   ]
  },
  {
   "cell_type": "markdown",
   "metadata": {},
   "source": [
    "# Pre vs. Post-Edge Polynomials"
   ]
  },
  {
   "cell_type": "code",
   "execution_count": 8,
   "metadata": {
    "ExecuteTime": {
     "end_time": "2019-08-21T05:38:04.817801Z",
     "start_time": "2019-08-21T05:31:30.493626Z"
    }
   },
   "outputs": [
    {
     "data": {
      "application/vnd.jupyter.widget-view+json": {
       "model_id": "b6f93d9ac1df4db8b41cca9e3be62283",
       "version_major": 2,
       "version_minor": 0
      },
      "text/plain": [
       "HBox(children=(IntProgress(value=0, max=3174), HTML(value='')))"
      ]
     },
     "metadata": {},
     "output_type": "display_data"
    },
    {
     "name": "stderr",
     "output_type": "stream",
     "text": [
      "/Users/steventorrisi/.local/lib/python3.6/site-packages/numpy/polynomial/_polybase.py:877: RankWarning: The fit may be poorly conditioned\n",
      "  res = cls._fit(xnew, y, deg, w=w, rcond=rcond, full=full)\n"
     ]
    },
    {
     "name": "stdout",
     "output_type": "stream",
     "text": [
      "\n"
     ]
    },
    {
     "data": {
      "application/vnd.jupyter.widget-view+json": {
       "model_id": "c649cda1a819497499665144483fcd64",
       "version_major": 2,
       "version_minor": 0
      },
      "text/plain": [
       "HBox(children=(IntProgress(value=0, max=7064), HTML(value='')))"
      ]
     },
     "metadata": {},
     "output_type": "display_data"
    },
    {
     "name": "stdout",
     "output_type": "stream",
     "text": [
      "\n"
     ]
    },
    {
     "data": {
      "application/vnd.jupyter.widget-view+json": {
       "model_id": "9ae49e08a4f543e69753df30ea64762c",
       "version_major": 2,
       "version_minor": 0
      },
      "text/plain": [
       "HBox(children=(IntProgress(value=0, max=7076), HTML(value='')))"
      ]
     },
     "metadata": {},
     "output_type": "display_data"
    },
    {
     "name": "stdout",
     "output_type": "stream",
     "text": [
      "\n"
     ]
    },
    {
     "data": {
      "application/vnd.jupyter.widget-view+json": {
       "model_id": "73af68375e2a44469b099ba2cdafc188",
       "version_major": 2,
       "version_minor": 0
      },
      "text/plain": [
       "HBox(children=(IntProgress(value=0, max=2879), HTML(value='')))"
      ]
     },
     "metadata": {},
     "output_type": "display_data"
    },
    {
     "name": "stdout",
     "output_type": "stream",
     "text": [
      "\n"
     ]
    },
    {
     "data": {
      "application/vnd.jupyter.widget-view+json": {
       "model_id": "fb8011023c6445428b41b0329f852816",
       "version_major": 2,
       "version_minor": 0
      },
      "text/plain": [
       "HBox(children=(IntProgress(value=0, max=3068), HTML(value='')))"
      ]
     },
     "metadata": {},
     "output_type": "display_data"
    },
    {
     "name": "stdout",
     "output_type": "stream",
     "text": [
      "\n"
     ]
    },
    {
     "data": {
      "application/vnd.jupyter.widget-view+json": {
       "model_id": "c0252169ba654895bec835adc25d5441",
       "version_major": 2,
       "version_minor": 0
      },
      "text/plain": [
       "HBox(children=(IntProgress(value=0, max=2534), HTML(value='')))"
      ]
     },
     "metadata": {},
     "output_type": "display_data"
    },
    {
     "name": "stdout",
     "output_type": "stream",
     "text": [
      "\n"
     ]
    },
    {
     "data": {
      "application/vnd.jupyter.widget-view+json": {
       "model_id": "e9f70d2d2c83424ca4e380a0079e31b8",
       "version_major": 2,
       "version_minor": 0
      },
      "text/plain": [
       "HBox(children=(IntProgress(value=0, max=9421), HTML(value='')))"
      ]
     },
     "metadata": {},
     "output_type": "display_data"
    },
    {
     "name": "stdout",
     "output_type": "stream",
     "text": [
      "\n"
     ]
    },
    {
     "data": {
      "application/vnd.jupyter.widget-view+json": {
       "model_id": "ba945f2b1d7044db8a41c20fd69de9b5",
       "version_major": 2,
       "version_minor": 0
      },
      "text/plain": [
       "HBox(children=(IntProgress(value=0, max=6345), HTML(value='')))"
      ]
     },
     "metadata": {},
     "output_type": "display_data"
    },
    {
     "name": "stdout",
     "output_type": "stream",
     "text": [
      "\n"
     ]
    }
   ],
   "source": [
    "polynomials_by_pair = {pair:[] for pair in target_elements_groups}\n",
    "\n",
    "for pair in target_elements_groups:\n",
    "    if not write_pre_post:\n",
    "        continue\n",
    "    for dat in tqdm_notebook(data_by_pair[pair]):\n",
    "        cur_spec = XAS_Spectrum(dat['E'],dat['mu'])\n",
    "        cur_spec.normalize('max')\n",
    "        \n",
    "        peak = cur_spec.get_peak_idx()\n",
    "        #print(peak)\n",
    "        if peak<20 or peak>80:\n",
    "            continue\n",
    "        pre_x, post_x = cur_spec.x[:peak], cur_spec.x[peak:]\n",
    "        pre_y, post_y = cur_spec.y[:peak], cur_spec.y[peak:]\n",
    "        \n",
    "        \n",
    "        poly_set = {}\n",
    "        labeled_coefficients = {}\n",
    "        for n in [1,2,4,5,10]:\n",
    "            poly_set[n] = polynomialize_by_idx(pre_x,pre_y,N=n,deg=3,label_type='frac')\n",
    "            for poly in poly_set[n]:\n",
    "                for i, coef in enumerate(poly.coef):\n",
    "                    coefficient_label = 'loc:pre,'+poly.label +',coef:' +str(i)\n",
    "                    labeled_coefficients[coefficient_label] = coef\n",
    "        \n",
    "        for n in [1,2,4,5,10]:\n",
    "            new_polys = polynomialize_by_idx(post_x,post_y,N=n,deg=3,label_type='frac')\n",
    "            for poly in new_polys:\n",
    "                for i, coef in enumerate(poly.coef):\n",
    "                    coefficient_label = 'loc:post,'+poly.label +',coef:' +str(i)\n",
    "                    labeled_coefficients[coefficient_label] = coef\n",
    "            poly_set[n] += new_polys\n",
    "\n",
    "        dat['labeled_coefficients'] = labeled_coefficients\n",
    "        #print(dat)\n",
    "    target_file = storage_directory + '/{}_{}_polynomials_pre-post_XY.json'.format(pair[0],pair[1])\n",
    "    with open(target_file,'w') as f:\n",
    "        for dat in data_by_pair[pair]:\n",
    "            write_data = {}\n",
    "            if not dat.get('labeled_coefficients', False):\n",
    "                continue\n",
    "            write_data['labeled_coefficients'] = dat['labeled_coefficients']\n",
    "            write_data['coordination'] = dat['coordination']\n",
    "            write_data['one_hot_coord'] = dat['one_hot_coord']\n",
    "            write_data['bader'] = dat['bader']\n",
    "            f.write(json.dumps(write_data) + '\\n')\n",
    "                    "
   ]
  },
  {
   "cell_type": "code",
   "execution_count": null,
   "metadata": {},
   "outputs": [],
   "source": []
  },
  {
   "cell_type": "code",
   "execution_count": null,
   "metadata": {},
   "outputs": [],
   "source": []
  }
 ],
 "metadata": {
  "kernelspec": {
   "display_name": "Python 3",
   "language": "python",
   "name": "python3"
  },
  "language_info": {
   "codemirror_mode": {
    "name": "ipython",
    "version": 3
   },
   "file_extension": ".py",
   "mimetype": "text/x-python",
   "name": "python",
   "nbconvert_exporter": "python",
   "pygments_lexer": "ipython3",
   "version": "3.6.8"
  }
 },
 "nbformat": 4,
 "nbformat_minor": 2
}
