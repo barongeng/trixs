{
 "cells": [
  {
   "cell_type": "markdown",
   "metadata": {},
   "source": [
    "\n",
    "# Sadly incomplete as of August 20, 2019. Sorry :( - ST\n",
    "# Add pymatgen guessed oxidation numbers to XY pairs\n",
    "\n",
    "## Addition to pre-processing designed to add Pymatgen guessed oxidation states"
   ]
  },
  {
   "cell_type": "code",
   "execution_count": 5,
   "metadata": {
    "ExecuteTime": {
     "end_time": "2019-08-12T20:16:46.060352Z",
     "start_time": "2019-08-12T20:16:46.006923Z"
    }
   },
   "outputs": [
    {
     "data": {
      "application/vnd.jupyter.widget-view+json": {
       "model_id": "1b5e1653880d46ecbcb549bedc7ecf42",
       "version_major": 2,
       "version_minor": 0
      },
      "text/plain": [
       "HBox(children=(IntProgress(value=0, max=8), HTML(value='')))"
      ]
     },
     "metadata": {},
     "output_type": "display_data"
    },
    {
     "name": "stdout",
     "output_type": "stream",
     "text": [
      "\n"
     ]
    }
   ],
   "source": [
    "from tqdm import tqdm, tqdm_notebook\n",
    "\n",
    "storage_directory = '/Users/steventorrisi/Documents/TRIXS/data/MP_OQMD_combined'\n",
    "# Determine this by learning the MAE from another calculation.\n",
    "bader_range_cutoff = .07\n",
    "\n",
    "target_elements_groups=[('Co','O'),('Fe','O'),('V','O'),('Cu','O'),\n",
    "                        ('Ni','O'),('Cr','O'),('Mn','O'),('Ti','O')]\n",
    "target_metals = set(['Co','Ni','Fe','Cr','V','Mn','Cu','Ti'])\n",
    "target_elements_sets =[set(pair) for pair in target_elements_groups]\n",
    "\n"
   ]
  },
  {
   "cell_type": "code",
   "execution_count": 6,
   "metadata": {
    "ExecuteTime": {
     "end_time": "2019-08-12T20:16:46.270718Z",
     "start_time": "2019-08-12T20:16:46.242319Z"
    }
   },
   "outputs": [
    {
     "name": "stdout",
     "output_type": "stream",
     "text": [
      "The autoreload extension is already loaded. To reload it, use:\n",
      "  %reload_ext autoreload\n"
     ]
    }
   ],
   "source": [
    "%load_ext autoreload\n",
    "%autoreload 2\n",
    "from pymatgen.ext.matproj import MPRester\n",
    "from pymatgen.core import Structure\n",
    "from pymatgen.analysis.structure_matcher import StructureMatcher, ElementComparator\n",
    "from trixs.spectra.core import XAS_Spectrum, XAS_Collation\n",
    "from trixs.spectra.util import NumpyEncoder, spectrum_sanity_check\n",
    "from pymatgen.analysis.local_env import CrystalNN\n",
    "from pprint import pprint\n",
    "import matplotlib.pyplot as plt\n",
    "import json\n",
    "import os\n",
    "import numpy as np\n",
    "from pandas import DataFrame"
   ]
  },
  {
   "cell_type": "code",
   "execution_count": 8,
   "metadata": {
    "ExecuteTime": {
     "end_time": "2019-08-12T20:26:49.168506Z",
     "start_time": "2019-08-12T20:26:49.108109Z"
    }
   },
   "outputs": [
    {
     "data": {
      "application/vnd.jupyter.widget-view+json": {
       "model_id": "3ef34ebc692b4878affe58e7a106ed89",
       "version_major": 2,
       "version_minor": 0
      },
      "text/plain": [
       "HBox(children=(IntProgress(value=0, max=8), HTML(value='')))"
      ]
     },
     "metadata": {},
     "output_type": "display_data"
    },
    {
     "name": "stdout",
     "output_type": "stream",
     "text": [
      "\n"
     ]
    },
    {
     "ename": "FileNotFoundError",
     "evalue": "[Errno 2] No such file or directory: '/Users/steventorrisi/Documents/TRIXS/data/MP_OQMD_combined/Co_O_final_spectra.json'",
     "output_type": "error",
     "traceback": [
      "\u001b[0;31m---------------------------------------------------------------------------\u001b[0m",
      "\u001b[0;31mFileNotFoundError\u001b[0m                         Traceback (most recent call last)",
      "\u001b[0;32m<ipython-input-8-4fd546cd57bf>\u001b[0m in \u001b[0;36m<module>\u001b[0;34m\u001b[0m\n\u001b[1;32m      2\u001b[0m \u001b[0;32mfor\u001b[0m \u001b[0mpair\u001b[0m \u001b[0;32min\u001b[0m \u001b[0mtqdm_notebook\u001b[0m\u001b[0;34m(\u001b[0m\u001b[0mtarget_elements_groups\u001b[0m\u001b[0;34m)\u001b[0m\u001b[0;34m:\u001b[0m\u001b[0;34m\u001b[0m\u001b[0;34m\u001b[0m\u001b[0m\n\u001b[1;32m      3\u001b[0m     \u001b[0mfile_target\u001b[0m \u001b[0;34m=\u001b[0m \u001b[0mstorage_directory\u001b[0m\u001b[0;34m+\u001b[0m\u001b[0;34m'/{}_{}_final_spectra.json'\u001b[0m\u001b[0;34m.\u001b[0m\u001b[0mformat\u001b[0m\u001b[0;34m(\u001b[0m\u001b[0mpair\u001b[0m\u001b[0;34m[\u001b[0m\u001b[0;36m0\u001b[0m\u001b[0;34m]\u001b[0m\u001b[0;34m,\u001b[0m\u001b[0mpair\u001b[0m\u001b[0;34m[\u001b[0m\u001b[0;36m1\u001b[0m\u001b[0;34m]\u001b[0m\u001b[0;34m)\u001b[0m\u001b[0;34m\u001b[0m\u001b[0;34m\u001b[0m\u001b[0m\n\u001b[0;32m----> 4\u001b[0;31m     \u001b[0;32mwith\u001b[0m \u001b[0mopen\u001b[0m\u001b[0;34m(\u001b[0m\u001b[0mfile_target\u001b[0m\u001b[0;34m,\u001b[0m\u001b[0;34m'r'\u001b[0m\u001b[0;34m)\u001b[0m \u001b[0;32mas\u001b[0m \u001b[0mf\u001b[0m\u001b[0;34m:\u001b[0m\u001b[0;34m\u001b[0m\u001b[0;34m\u001b[0m\u001b[0m\n\u001b[0m\u001b[1;32m      5\u001b[0m         \u001b[0mthe_lines\u001b[0m \u001b[0;34m=\u001b[0m \u001b[0mf\u001b[0m\u001b[0;34m.\u001b[0m\u001b[0mreadlines\u001b[0m\u001b[0;34m(\u001b[0m\u001b[0;34m)\u001b[0m\u001b[0;34m\u001b[0m\u001b[0;34m\u001b[0m\u001b[0m\n\u001b[1;32m      6\u001b[0m         \u001b[0mcur_spectra\u001b[0m \u001b[0;34m=\u001b[0m \u001b[0;34m[\u001b[0m\u001b[0mXAS_Spectrum\u001b[0m\u001b[0;34m.\u001b[0m\u001b[0mload_from_object\u001b[0m\u001b[0;34m(\u001b[0m\u001b[0mspec\u001b[0m\u001b[0;34m)\u001b[0m \u001b[0;32mfor\u001b[0m \u001b[0mspec\u001b[0m \u001b[0;32min\u001b[0m \u001b[0mthe_lines\u001b[0m\u001b[0;34m]\u001b[0m\u001b[0;34m\u001b[0m\u001b[0;34m\u001b[0m\u001b[0m\n",
      "\u001b[0;31mFileNotFoundError\u001b[0m: [Errno 2] No such file or directory: '/Users/steventorrisi/Documents/TRIXS/data/MP_OQMD_combined/Co_O_final_spectra.json'"
     ]
    }
   ],
   "source": [
    "spectra_by_pair = {}\n",
    "for pair in tqdm_notebook(target_elements_groups): \n",
    "    file_target = storage_directory+'/{}_{}_final_spectra.json'.format(pair[0],pair[1])\n",
    "    with open(file_target,'r') as f:\n",
    "        the_lines = f.readlines()\n",
    "        cur_spectra = [XAS_Spectrum.load_from_object(spec) for spec in the_lines]\n",
    "        struc = cur_spectra.structure\n",
    "        print(struc)\n",
    "        "
   ]
  },
  {
   "cell_type": "code",
   "execution_count": null,
   "metadata": {},
   "outputs": [],
   "source": []
  }
 ],
 "metadata": {
  "kernelspec": {
   "display_name": "Python 3",
   "language": "python",
   "name": "python3"
  },
  "language_info": {
   "codemirror_mode": {
    "name": "ipython",
    "version": 3
   },
   "file_extension": ".py",
   "mimetype": "text/x-python",
   "name": "python",
   "nbconvert_exporter": "python",
   "pygments_lexer": "ipython3",
   "version": "3.6.8"
  }
 },
 "nbformat": 4,
 "nbformat_minor": 2
}
