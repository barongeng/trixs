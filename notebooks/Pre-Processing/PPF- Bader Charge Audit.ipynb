{
 "cells": [
  {
   "cell_type": "markdown",
   "metadata": {},
   "source": [
    "# Visualize the Bader charges on the MP and OQMD collations individually (note: BEFORE spectra are matched in).\n",
    "Goals: Audit of the bader charges stored in the MP and OQMD structures."
   ]
  },
  {
   "cell_type": "code",
   "execution_count": 1,
   "metadata": {
    "ExecuteTime": {
     "end_time": "2019-09-30T15:48:25.099694Z",
     "start_time": "2019-09-30T15:48:21.886335Z"
    }
   },
   "outputs": [],
   "source": [
    "from pymatgen.ext.matproj import MPRester\n",
    "from pymatgen.core import Structure\n",
    "from pymatgen.analysis.structure_matcher import StructureMatcher, ElementComparator\n",
    "from trixs.spectra.core import XAS_Spectrum, XAS_Collation\n",
    "from trixs.spectra.util import NumpyEncoder\n",
    "from tqdm import tqdm, tqdm_notebook\n",
    "from pprint import pprint\n",
    "import json\n",
    "import os\n",
    "import numpy as np\n",
    "import scipy.stats as scistat\n",
    "from pymatgen.analysis.local_env import CrystalNN\n",
    "\n",
    "storage_directory = '/Users/steven/Documents/Research/Projects/TRIX/data/Pre-Processing'\n",
    "oqmd_bader_dir = '/Users/steven/Documents/Research/Projects/TRIX/data/OQMD_bader'\n",
    "matcher = StructureMatcher(comparator = ElementComparator())\n",
    "api_key = 'iR01ZMroBgDd8hml'\n",
    "mpr = MPRester(api_key)"
   ]
  },
  {
   "cell_type": "code",
   "execution_count": 2,
   "metadata": {
    "ExecuteTime": {
     "end_time": "2019-09-30T15:48:25.134040Z",
     "start_time": "2019-09-30T15:48:25.121956Z"
    }
   },
   "outputs": [],
   "source": [
    "target_elements_groups=[('Co','O'),('Fe','O'),('V','O'),('Cu','O'),\n",
    "                        ('Ni','O'),('Cr','O'),('Mn','O'),('Ti','O')]\n",
    "target_metals = set(['Co','Ni','Fe','Cr','V','Mn','Cu','Ti'])\n",
    "target_elements_sets =[set(pair) for pair in target_elements_groups]\n",
    "\n",
    "def trim_non_alpha(string):\n",
    "    target = ''\n",
    "    for x in [x for x in string if x.isalpha()]:\n",
    "        target+=x\n",
    "    return target"
   ]
  },
  {
   "cell_type": "markdown",
   "metadata": {},
   "source": [
    "## Load in the OQMD "
   ]
  },
  {
   "cell_type": "code",
   "execution_count": 3,
   "metadata": {
    "ExecuteTime": {
     "end_time": "2019-09-30T15:55:40.113802Z",
     "start_time": "2019-09-30T15:48:25.151322Z"
    }
   },
   "outputs": [
    {
     "data": {
      "application/vnd.jupyter.widget-view+json": {
       "model_id": "5f8c2a0af98046ffb8c9f1712f2ff636",
       "version_major": 2,
       "version_minor": 0
      },
      "text/plain": [
       "HBox(children=(IntProgress(value=0, max=8), HTML(value='')))"
      ]
     },
     "metadata": {},
     "output_type": "display_data"
    },
    {
     "name": "stdout",
     "output_type": "stream",
     "text": [
      "\n"
     ]
    }
   ],
   "source": [
    "mp_cols = {pair: [] for pair in target_elements_groups}\n",
    "oqmd_cols  = {pair: [] for pair in target_elements_groups}\n",
    "for pair in tqdm_notebook(target_elements_groups):\n",
    "    collation_file = storage_directory+ \"/{}_{}_\".format(pair[0],pair[1])+'MP_OQMD_combined_collations.json'\n",
    "\n",
    "    with open(collation_file,'r') as f:\n",
    "        for line in f.readlines():\n",
    "            cur_dict = json.loads(line.strip())\n",
    "            col = XAS_Collation.from_dict(cur_dict)\n",
    "            #print([str(x) for x in col.structure.species])\n",
    "            col.elements = set([trim_non_alpha(str(elt)) for elt in col.structure.species])\n",
    "            #print(col.elements)\n",
    "            if col.mp_id:\n",
    "                mp_cols[pair].append(col)\n",
    "            else:\n",
    "                oqmd_cols[pair].append(col)\n",
    "                "
   ]
  },
  {
   "cell_type": "code",
   "execution_count": 4,
   "metadata": {
    "ExecuteTime": {
     "end_time": "2019-09-30T15:55:40.337585Z",
     "start_time": "2019-09-30T15:55:40.330546Z"
    }
   },
   "outputs": [
    {
     "name": "stdout",
     "output_type": "stream",
     "text": [
      "[]\n",
      "{'@module': 'trixs.spectra.core', '@class': 'XAS_Collation', 'structure': {'@module': 'pymatgen.core.structure', '@class': 'Structure', 'charge': None, 'lattice': {'matrix': [[2.869896, 0.0, 0.0], [-1.434948, 2.485402, 0.0], [0.0, 0.0, 7.217821]], 'a': 2.869896, 'b': 2.8698952706166825, 'c': 7.217821, 'alpha': 90.0, 'beta': 90.0, 'gamma': 120.00000840720816, 'volume': 51.48360029432864}, 'sites': [{'species': [{'element': 'F', 'occu': 1}], 'abc': [0.0, 0.0, 0.4999999307], 'xyz': [0.0, 0.0, 3.6089099998050047], 'label': 'F'}, {'species': [{'element': 'Li', 'occu': 1}], 'abc': [0.6666658883, 0.3333303828, 0.3423332333], 'xyz': [1.434950000030522, 0.8284600000718856, 2.470900000310639], 'label': 'Li'}, {'species': [{'element': 'Li', 'occu': 1}], 'abc': [0.3333344063, 0.6666688125, 0.6576666282], 'xyz': [1.4349481160748313e-10, 1.656939999925125, 4.746920000021152], 'label': 'Li'}, {'species': [{'element': 'O', 'occu': 1}], 'abc': [0.3333344063, 0.6666688125, 0.1665599632], 'xyz': [1.4349481160748313e-10, 1.656939999925125, 1.202200000144187], 'label': 'O'}, {'species': [{'element': 'O', 'occu': 1}], 'abc': [0.6666658883, 0.3333303828, 0.8334398983], 'xyz': [1.434950000030522, 0.8284600000718856, 6.015620000187604], 'label': 'O'}, {'species': [{'element': 'Ti', 'occu': 1}], 'abc': [0.0, 0.0, 0.0], 'xyz': [0.0, 0.0, 0.0], 'label': 'Ti'}]}, 'mp_id': None, 'oqmd_id': 'oqmd-1236317', 'icsd_ids': [], 'mp_spectra': [], 'feff_spectra': [], 'mp_bader': [], 'oqmd_bader': [], 'coordination_numbers': []}\n"
     ]
    }
   ],
   "source": [
    "print(col.coordination_numbers)\n",
    "print(cur_dict)\n",
    "\n"
   ]
  },
  {
   "cell_type": "markdown",
   "metadata": {},
   "source": [
    "### Oxidation Audit"
   ]
  },
  {
   "cell_type": "code",
   "execution_count": 5,
   "metadata": {
    "ExecuteTime": {
     "end_time": "2019-09-30T15:55:41.004180Z",
     "start_time": "2019-09-30T15:55:40.426609Z"
    }
   },
   "outputs": [
    {
     "ename": "AttributeError",
     "evalue": "'XAS_Collation' object has no attribute 'has_mp_oxy'",
     "output_type": "error",
     "traceback": [
      "\u001b[0;31m---------------------------------------------------------------------------\u001b[0m",
      "\u001b[0;31mAttributeError\u001b[0m                            Traceback (most recent call last)",
      "\u001b[0;32m<ipython-input-5-0c1c9c3d5b1d>\u001b[0m in \u001b[0;36m<module>\u001b[0;34m\u001b[0m\n\u001b[1;32m      3\u001b[0m \u001b[0;32mfor\u001b[0m \u001b[0mpair\u001b[0m \u001b[0;32min\u001b[0m \u001b[0mtarget_elements_groups\u001b[0m\u001b[0;34m:\u001b[0m\u001b[0;34m\u001b[0m\u001b[0;34m\u001b[0m\u001b[0m\n\u001b[1;32m      4\u001b[0m     \u001b[0;32mfor\u001b[0m \u001b[0mcol\u001b[0m \u001b[0;32min\u001b[0m \u001b[0mmp_cols\u001b[0m\u001b[0;34m[\u001b[0m\u001b[0mpair\u001b[0m\u001b[0;34m]\u001b[0m\u001b[0;34m:\u001b[0m\u001b[0;34m\u001b[0m\u001b[0;34m\u001b[0m\u001b[0m\n\u001b[0;32m----> 5\u001b[0;31m         \u001b[0;32mif\u001b[0m \u001b[0mcol\u001b[0m\u001b[0;34m.\u001b[0m\u001b[0mhas_mp_oxy\u001b[0m\u001b[0;34m(\u001b[0m\u001b[0;34m)\u001b[0m \u001b[0;32mand\u001b[0m \u001b[0mcol\u001b[0m\u001b[0;34m.\u001b[0m\u001b[0mhas_oqmd_oxy\u001b[0m\u001b[0;34m(\u001b[0m\u001b[0;34m)\u001b[0m\u001b[0;34m:\u001b[0m\u001b[0;34m\u001b[0m\u001b[0;34m\u001b[0m\u001b[0m\n\u001b[0m\u001b[1;32m      6\u001b[0m             \u001b[0moverlap\u001b[0m\u001b[0;34m.\u001b[0m\u001b[0mappend\u001b[0m\u001b[0;34m(\u001b[0m\u001b[0mcol\u001b[0m\u001b[0;34m)\u001b[0m\u001b[0;34m\u001b[0m\u001b[0;34m\u001b[0m\u001b[0m\n\u001b[1;32m      7\u001b[0m \u001b[0;34m\u001b[0m\u001b[0m\n",
      "\u001b[0;31mAttributeError\u001b[0m: 'XAS_Collation' object has no attribute 'has_mp_oxy'"
     ]
    }
   ],
   "source": [
    "overlap = []\n",
    "\n",
    "for pair in target_elements_groups:\n",
    "    for col in mp_cols[pair]:\n",
    "        if col.has_mp_oxy() and col.has_oqmd_oxy():\n",
    "            overlap.append(col)\n",
    "            \n",
    "print(len(overlap))"
   ]
  },
  {
   "cell_type": "code",
   "execution_count": null,
   "metadata": {
    "ExecuteTime": {
     "end_time": "2019-09-30T15:55:41.016234Z",
     "start_time": "2019-09-30T15:48:25.828Z"
    }
   },
   "outputs": [],
   "source": [
    "import matplotlib.pyplot as plt\n",
    "import numpy as np\n",
    "#for a in overlap:\n",
    "#    print(a.mp_oxy)\n",
    "#    print(a.oqmd_oxy)\n",
    "#    print('---')\n",
    "\n",
    "for pair in overlap:\n",
    "    mp_bader = -1*np.array([ox[1] for ox in pair.mp_oxy])\n",
    "    oqmd_bader = np.array([ox[1] for ox in pair.oqmd_oxy])\n",
    "    plt.scatter(mp_bader,oqmd_bader)\n",
    "\n",
    "plt.title(\"Parity Plot for OQMD / MP Bader Charge\")\n",
    "plt.xlabel(\"Materials Project Bader Chg\")\n",
    "plt.ylabel(\"-1 X OQMD Bader Chg\")\n",
    "plt.plot((-4,7),(-4,7))\n",
    "plt.show()\n",
    "\n",
    "#all_diffs = [np.mean(np.abs(np.add(pair.mp_oxy,pair.oqmd_oxy))) for pair in overlap]\n",
    "#print(np.mean(all_diffs))"
   ]
  },
  {
   "cell_type": "code",
   "execution_count": null,
   "metadata": {
    "ExecuteTime": {
     "end_time": "2019-09-30T15:55:41.025349Z",
     "start_time": "2019-09-30T15:48:26.158Z"
    }
   },
   "outputs": [],
   "source": [
    "mp_oxy_numbers = [sorted([-1*x[1] for x in pair.mp_oxy]) for pair in overlap]\n",
    "oqmd_oxy_numbers = [sorted([x[1] for x in pair.oqmd_oxy]) for pair in overlap]\n",
    "\n",
    "\n",
    "\n",
    "diffs = [np.abs(np.subtract(mp_oxy, oqmd_oxy)) for mp_oxy,oqmd_oxy in zip(mp_oxy_numbers,oqmd_oxy_numbers)]\n",
    "\n",
    "maximal_diffs = [np.max(diff) for diff in diffs]\n",
    "#print('Maxmial diff in bader occurs at index {} and is:',maximal_diffs.index(max(maximal_diffs)))\n",
    "sorted_diffs = sorted(maximal_diffs)\n",
    "largest = sorted_diffs[-1]\n",
    "second_largest = sorted_diffs[-2]\n",
    "third_largest = sorted_diffs[-3]\n",
    "fourth_largest = sorted_diffs[-4]\n",
    "\n",
    "#print(largest)\n",
    "#print(second_largest)\n",
    "#print(third_largest)\n",
    "#print(fourth_largest)\n",
    "\n",
    "#print(overlap[67].elements)\n",
    "#largest_overlap = overlap[67]\n",
    "#print(overlap[maximal_diffs.index(largest)].elements)\n",
    "#print(overlap[maximal_diffs.index(second_largest)].elements)\n",
    "#print(overlap[maximal_diffs.index(second_largest)].mp_id)\n",
    "\n",
    "##print(overlap[maximal_diffs.index(third_largest)].elements)\n",
    "#print(overlap[maximal_diffs.index(fourth_largest)].elements)\n",
    "\n"
   ]
  },
  {
   "cell_type": "code",
   "execution_count": null,
   "metadata": {
    "ExecuteTime": {
     "end_time": "2019-09-30T15:55:41.031947Z",
     "start_time": "2019-09-30T15:48:26.372Z"
    }
   },
   "outputs": [],
   "source": [
    "import matplotlib.pyplot as plt\n",
    "import numpy as np\n",
    "#for a in overlap:\n",
    "#    print(a.mp_oxy)\n",
    "#    print(a.oqmd_oxy)\n",
    "#    print('---')\n",
    "fig = plt.figure(figsize=(8,8))\n",
    "all_mps = []\n",
    "all_oqmds = []\n",
    "for pair in overlap:\n",
    "    mp_bader = np.array(sorted([-1*ox[1] for ox in pair.mp_oxy]))\n",
    "    oqmd_bader = np.array(sorted([ox[1] for ox in pair.oqmd_oxy]))\n",
    "    all_mps+= sorted([-1*ox[1] for ox in pair.mp_oxy])\n",
    "    all_oqmds += sorted([ox[1] for ox in pair.oqmd_oxy])\n",
    "    plt.scatter(mp_bader, oqmd_bader)\n",
    "\n",
    "\n",
    "difference = np.mean(np.abs(np.subtract(all_mps,all_oqmds)))\n",
    "print(difference)\n",
    "plt.title(\"Parity Plot for OQMD / MP Bader Charge\")\n",
    "plt.xlabel(\"Sorted Materials Project Bader Chg\")\n",
    "plt.ylabel(\"-1 X Sorted OQMD Bader Chg\")\n",
    "plt.plot((-6,7),(-6,7))"
   ]
  },
  {
   "cell_type": "markdown",
   "metadata": {},
   "source": [
    "Statistics about range of bader charge values within a given element"
   ]
  },
  {
   "cell_type": "code",
   "execution_count": null,
   "metadata": {
    "ExecuteTime": {
     "end_time": "2019-09-30T15:55:41.040793Z",
     "start_time": "2019-09-30T15:48:26.850Z"
    }
   },
   "outputs": [],
   "source": [
    "print(target_metals)"
   ]
  },
  {
   "cell_type": "markdown",
   "metadata": {},
   "source": [
    "### Get a sense of the overall oxidation number landscape, using exlcusively the MP collations (that may or may not be OQMD matched)"
   ]
  },
  {
   "cell_type": "code",
   "execution_count": null,
   "metadata": {
    "ExecuteTime": {
     "end_time": "2019-09-30T15:55:41.048994Z",
     "start_time": "2019-09-30T15:48:27.236Z"
    }
   },
   "outputs": [],
   "source": [
    "color_cycle = {'Cr':'silver','Mn':'red','Ti':'gray','V':'teal','Co':'blue','Fe':'red','Ni':'yellow','Cu':'brown'}\n",
    "for pair in target_elements_groups:\n",
    "    ranges = []\n",
    "    stds = []\n",
    "    means = []\n",
    "    for col in [col for col in mp_cols[pair] if col.has_mp_oxy()]:\n",
    "        #print(cur_mp_oxy)\n",
    "        cur_mp_oxy = col.mp_oxy\n",
    "        cur_species = set([oxy[0] for oxy in cur_mp_oxy])\n",
    "        oxy_vals = {elt:[-1*oxy[1] for oxy in cur_mp_oxy if oxy[0]==elt] for elt in cur_species}\n",
    "        #print(oxy_vals)\n",
    "        oxy_stats = {elt: scistat.describe(oxy_vals[elt]) for elt in cur_species}\n",
    "        elt = pair[0]\n",
    "        ranges.append(max(oxy_vals[elt]) - min(oxy_vals[elt]))\n",
    "        means.append(np.mean(oxy_vals[elt]))\n",
    "        stds.append(np.std(oxy_vals[elt]))\n",
    "        #print(oxy_stats)\n",
    "    elt = pair[0]\n",
    "    plt.title(\"Max - Min (Range) Bader Charge # for {}\".format(elt))\n",
    "    plt.hist(ranges,bins=100,color=color_cycle[elt])\n",
    "    plt.xlabel(\"Range\")\n",
    "    plt.ylabel(\"Occurrences\")\n",
    "    plt.show()\n",
    "    \n",
    "    plt.title(\"Mean Bader Charge # for {}\".format(elt))\n",
    "    plt.hist(means,bins=100,color=color_cycle[elt])\n",
    "    plt.xlabel(\"Mean\")\n",
    "    plt.ylabel(\"Occurrences\")\n",
    "    plt.show()\n",
    "    \n",
    "    #plt.title(\"Sigma Bader Charge # for {}\".format(elt))\n",
    "    #plt.hist(stds,bins=100,color=color_cycle[elt])\n",
    "    ##plt.xlabel(\"Standard Deviation\")\n",
    "    #plt.ylabel(\"Occurrences\")\n",
    "    #plt.show()"
   ]
  },
  {
   "cell_type": "markdown",
   "metadata": {},
   "source": [
    "## Compare the bader charges based on rounding against pymatgen's guess, and also sort by coordination number: only do for the structures with minimal range splitting"
   ]
  },
  {
   "cell_type": "code",
   "execution_count": null,
   "metadata": {
    "ExecuteTime": {
     "end_time": "2019-09-30T15:55:41.054543Z",
     "start_time": "2019-09-30T15:48:27.625Z"
    }
   },
   "outputs": [],
   "source": [
    "for pair in target_elements_groups:\n",
    "    for col in tqdm_notebook([col for col in mp_cols[pair] if col.has_mp_oxy()]):\n",
    "        break\n",
    "pprint(col.as_dict())\n"
   ]
  },
  {
   "cell_type": "code",
   "execution_count": null,
   "metadata": {
    "ExecuteTime": {
     "end_time": "2019-09-30T15:55:41.063507Z",
     "start_time": "2019-09-30T15:48:27.820Z"
    }
   },
   "outputs": [],
   "source": [
    "coord_colors = {4:'blue', 5:'green', 6:'orange'}\n",
    "\n",
    "for pair in target_elements_groups:\n",
    "    ranges = []\n",
    "    stds = []\n",
    "    means = []\n",
    "    coords = []\n",
    "    target_metal = pair[0]\n",
    "    guessed_oxys = []\n",
    "    multiple_coords_present = 0 \n",
    "    guessed_means = []\n",
    "    for col in tqdm_notebook([col for col in mp_cols[pair] if col.has_mp_oxy()],desc=str(pair)):\n",
    "        cur_mp_oxy = col.mp_oxy\n",
    "        cur_species = set([oxy[0] for oxy in cur_mp_oxy])\n",
    "        oxy_vals = {elt:[-1*oxy[1] for oxy in cur_mp_oxy if oxy[0]==elt] for elt in cur_species}\n",
    "        cur_range = max(oxy_vals[target_metal]) - min(oxy_vals[target_metal])\n",
    "        \n",
    "        if cur_range >.1 or len(col.coordination_numbers)==0:\n",
    "            continue\n",
    "        cur_sites = [site.as_dict()['species'][0]['element'] for site in col.structure.sites]\n",
    "        metal_indices = [i for i in range(len(col.structure.sites)) if cur_sites[i]==target_metal]\n",
    "        cur_coords = [col.coordination_numbers[i] for i in metal_indices]\n",
    "        if len(set(cur_coords))>1 :\n",
    "            multiple_coords_present+=1\n",
    "            continue\n",
    "        else:\n",
    "            coords.append(cur_coords[0])\n",
    "            #col.structure.add_oxidation_state_by_guess()\n",
    "            #cur_oxy_guesses = [site.as_dict()['species'][0]['oxidation_state'] for site in col.structure.sites]\n",
    "            #cur_oxy_guesses = [cur_oxy_guesses[i] for i in metal_indices]\n",
    "            #guessed_oxys.append(cur_oxy_guesses)\n",
    "            \n",
    "        \n",
    "        ranges.append(max(oxy_vals[target_metal]) - min(oxy_vals[target_metal]))\n",
    "        #print(oxy_vals)\n",
    "        oxy_stats = {elt: scistat.describe(oxy_vals[elt]) for elt in cur_species}\n",
    "        elt = pair[0]\n",
    "        means.append(np.mean(oxy_vals[elt]))\n",
    "        #guessed_means.append(np.mean(guessed_oxys[-1]))\n",
    "\n",
    "        stds.append(np.std(oxy_vals[elt]))\n",
    "        #print(oxy_stats)\n",
    "    elt = pair[0]\n",
    "    \n",
    "    #print(set([coord for coord in coords if isinstance(coord,int)]))\n",
    "    means_by_coord = {coord:[] for coord in set(coords)}\n",
    "    #guesses_by_coord = {coord:[] for coord in set(coords)}\n",
    "\n",
    "    for i in range(len(means)):\n",
    "        means_by_coord[coords[i]].append(means[i])\n",
    "        #guesses_by_coord[coords[i]].append(guessed_means[i])\n",
    "    #print(means)\n",
    "    #print(coords)\n",
    "    \n",
    "    plt.title(\"Coordination Numbers for {}\".format(elt))\n",
    "    plt.hist(coords,color=color_cycle[elt])\n",
    "    plt.xlabel(\"Mean\")\n",
    "    plt.ylabel(\"Occurrences\")\n",
    "    plt.show()\n",
    "    \n",
    "    plt.title(\"Mean Bader Charges for {}\".format(elt))\n",
    "    for coord in [4,6,5]:\n",
    "        plt.hist(np.array(means_by_coord[coord]),bins=20,color=coord_colors[coord],alpha=.5,\n",
    "                label=coord)\n",
    "    plt.legend()\n",
    "    plt.xlabel(\"Mean\")\n",
    "    plt.ylabel(\"Occurrences\")\n",
    "    plt.show()\n",
    "    \"\"\"           \n",
    "    plt.title(\"Guessed Mean Oxy # for {}\".format(elt))\n",
    "    for coord in [4,6,5]:\n",
    "        plt.hist(np.array(guesses_by_coord[coord]),bins=20,color=coord_colors[coord],alpha=.5,\n",
    "                label=coord)\n",
    "    plt.legend()\n",
    "    plt.xlabel(\"Mean\")\n",
    "    plt.ylabel(\"Occurrences\")\n",
    "    plt.show()\n",
    "    \"\"\"     \n",
    "    "
   ]
  },
  {
   "cell_type": "markdown",
   "metadata": {},
   "source": [
    "## Proposal: Break ties by using guess based on coordination, or based on Formula?"
   ]
  },
  {
   "cell_type": "code",
   "execution_count": null,
   "metadata": {},
   "outputs": [],
   "source": []
  },
  {
   "cell_type": "code",
   "execution_count": null,
   "metadata": {},
   "outputs": [],
   "source": []
  },
  {
   "cell_type": "code",
   "execution_count": null,
   "metadata": {},
   "outputs": [],
   "source": []
  }
 ],
 "metadata": {
  "hide_input": false,
  "kernelspec": {
   "display_name": "Python 3",
   "language": "python",
   "name": "python3"
  },
  "language_info": {
   "codemirror_mode": {
    "name": "ipython",
    "version": 3
   },
   "file_extension": ".py",
   "mimetype": "text/x-python",
   "name": "python",
   "nbconvert_exporter": "python",
   "pygments_lexer": "ipython3",
   "version": "3.8.2"
  },
  "varInspector": {
   "cols": {
    "lenName": 16,
    "lenType": 16,
    "lenVar": 40
   },
   "kernels_config": {
    "python": {
     "delete_cmd_postfix": "",
     "delete_cmd_prefix": "del ",
     "library": "var_list.py",
     "varRefreshCmd": "print(var_dic_list())"
    },
    "r": {
     "delete_cmd_postfix": ") ",
     "delete_cmd_prefix": "rm(",
     "library": "var_list.r",
     "varRefreshCmd": "cat(var_dic_list()) "
    }
   },
   "types_to_exclude": [
    "module",
    "function",
    "builtin_function_or_method",
    "instance",
    "_Feature"
   ],
   "window_display": false
  }
 },
 "nbformat": 4,
 "nbformat_minor": 4
}
