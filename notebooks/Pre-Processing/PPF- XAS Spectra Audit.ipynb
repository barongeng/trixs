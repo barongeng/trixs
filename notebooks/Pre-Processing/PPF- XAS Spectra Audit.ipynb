{
 "cells": [
  {
   "cell_type": "markdown",
   "metadata": {},
   "source": [
    "## Ensure that the X-Y pairs up to this point make sense.\n",
    "\n",
    "Goals: Audit of the spectra stored in the XY pair files. This is more of a 'scratch' notebook."
   ]
  },
  {
   "cell_type": "code",
   "execution_count": null,
   "metadata": {
    "ExecuteTime": {
     "end_time": "2019-08-20T01:59:22.988066Z",
     "start_time": "2019-08-20T01:59:22.979335Z"
    }
   },
   "outputs": [],
   "source": [
    "target_elements_groups=[('Co','O'),('Fe','O'),('V','O'),('Cu','O'),\n",
    "                        ('Ni','O'),('Cr','O'),('Mn','O'),('Ti','O')]\n",
    "target_metals = set(['Co','Ni','Fe','Cr','V','Mn','Cu','Ti'])\n",
    "target_elements_sets =[set(pair) for pair in target_elements_groups]"
   ]
  },
  {
   "cell_type": "code",
   "execution_count": null,
   "metadata": {
    "ExecuteTime": {
     "end_time": "2019-08-20T01:59:24.804779Z",
     "start_time": "2019-08-20T01:59:22.991450Z"
    }
   },
   "outputs": [],
   "source": [
    "from pymatgen.ext.matproj import MPRester\n",
    "from pymatgen.core import Structure\n",
    "from pymatgen.analysis.structure_matcher import StructureMatcher, ElementComparator\n",
    "from trixs.spectra.core import XAS_Spectrum, XAS_Collation\n",
    "from trixs.spectra.util import NumpyEncoder\n",
    "import matplotlib\n",
    "from matplotlib.collections import LineCollection\n",
    "\n",
    "from tqdm import tqdm, tqdm_notebook\n",
    "from pprint import pprint\n",
    "import json\n",
    "import os\n",
    "import numpy as np\n",
    "import matplotlib.pyplot as plt\n",
    "\n",
    "from pandas import DataFrame\n",
    "storage_directory = '/Users/steventorrisi/Documents/TRIXS/data/MP_OQMD_combined'\n",
    "matcher = StructureMatcher(comparator = ElementComparator())\n"
   ]
  },
  {
   "cell_type": "code",
   "execution_count": null,
   "metadata": {
    "ExecuteTime": {
     "end_time": "2019-08-20T01:59:31.629512Z",
     "start_time": "2019-08-20T01:59:24.810019Z"
    }
   },
   "outputs": [],
   "source": [
    "data_by_pair = {pair:[] for pair in target_elements_groups}\n",
    "for pair in target_elements_groups:\n",
    "    file_target = storage_directory+'/{}_{}_XY.json'.format(pair[0],pair[1])\n",
    "    with open(file_target,'r') as f:\n",
    "        data_by_pair[pair] = [json.loads(line) for line in f.readlines()]\n",
    "\n"
   ]
  },
  {
   "cell_type": "code",
   "execution_count": null,
   "metadata": {
    "ExecuteTime": {
     "end_time": "2019-08-20T02:06:47.607192Z",
     "start_time": "2019-08-20T01:59:31.632947Z"
    },
    "scrolled": false
   },
   "outputs": [],
   "source": [
    "coord_alph_by_pair = {('Co','O'): {4:.5,5:.5,6:.25},\n",
    "                   ('Fe','O'): {4:.5,5:.5,6:.5},\n",
    "                   ('V','O'):  {4:.5,5:.5,6:.5},\n",
    "                   ('Cu','O'): {4:.5,5:.5,6:.5},\n",
    "                   ('Ni','O'): {4:.5,5:.5,6:.5},\n",
    "                   ('Cr','O'): {4:.5,5:.5,6:.5},\n",
    "                   ('Mn','O'): {4:.5,5:.5,6:.5},\n",
    "                   ('Ti','O'): {4:.5,5:.5,6:.5}}\n",
    "\n",
    "for pair,data in data_by_pair.items():\n",
    "    plt.figure(dpi=300)\n",
    "    relevant_coordination = [4,5,6]\n",
    "    coord_count = {coord:0 for coord in relevant_coordination}\n",
    "    \n",
    "    filtered_by_coords =[dat for dat in data if dat['coordination'] in relevant_coordination]\n",
    "    print(len(filtered_by_coords))\n",
    "    for dat in filtered_by_coords:\n",
    "        coord_count[dat['coordination']] += 1\n",
    "    \n",
    "    color_mappper={4:'blue',5:'green',6:'red'}\n",
    "    \n",
    "    for spec in filtered_by_coords:\n",
    "        x = spec['E']\n",
    "        y = spec['mu']\n",
    "        cur_spec = XAS_Spectrum(x,y)\n",
    "        cur_spec.normalize('max')\n",
    "        coord = spec['coordination']\n",
    "        plt.plot(cur_spec.x,cur_spec.y,color=color_mappper[coord],alpha=coord_alph_by_pair[pair][coord])#=alpha_mapper[coord])\n",
    "    plt.ylabel(\"$\\mu (E)$\")\n",
    "    plt.ylim(-.2,1.1)\n",
    "    plt.xlabel(\"Energy\")\n",
    "    plt.title(\"Coordination of {}\".format(pair[0]))\n",
    "    plt.show()\n"
   ]
  },
  {
   "cell_type": "code",
   "execution_count": null,
   "metadata": {
    "ExecuteTime": {
     "end_time": "2019-08-20T02:08:57.434216Z",
     "start_time": "2019-08-20T02:06:47.611076Z"
    },
    "scrolled": false
   },
   "outputs": [],
   "source": [
    "for pair,data in data_by_pair.items():\n",
    "    plt.figure(dpi=300)    \n",
    "\n",
    "    filtered_by_bader =[dat for dat in data if dat['bader']]\n",
    "    baders =[dat['bader'] for dat in filtered_by_bader]\n",
    "    print(min(baders))\n",
    "    \n",
    "    plt.hist(baders)\n",
    "    plt.title(\"Distribution of Bader Charges on {}\".format(pair[0]))\n",
    "    plt.show()\n",
    "    \n",
    "    plt.figure(dpi=300)    \n",
    "    cmap = matplotlib.cm.get_cmap('coolwarm')\n",
    "    norm = matplotlib.colors.Normalize(vmin=min(baders), vmax=max(baders))\n",
    "    for spec in filtered_by_bader:\n",
    "        #spec = pair[0]\n",
    "        x = spec['E']\n",
    "        y= spec['mu']\n",
    "        #if np.min(y)<.01:\n",
    "        #    pprint(spec)\n",
    "        cur_spec = XAS_Spectrum(x,y)\n",
    "        cur_spec.normalize('max')\n",
    "        plt.plot(cur_spec.x,cur_spec.y,color=cmap(norm(spec['bader'])),alpha=.1)\n",
    "    plt.ylabel(\"$\\mu (E)$\")\n",
    "    plt.xlabel(\"Energy\")\n",
    "    plt.ylim(0,1.1)\n",
    "    plt.title(\"Bader Charges of {}\".format(pair[0]))\n",
    "    plt.show()\n"
   ]
  },
  {
   "cell_type": "markdown",
   "metadata": {},
   "source": [
    "## Re-Done Line Collection / Subpot Form"
   ]
  },
  {
   "cell_type": "code",
   "execution_count": null,
   "metadata": {
    "ExecuteTime": {
     "end_time": "2019-08-20T02:10:36.367522Z",
     "start_time": "2019-08-20T02:08:57.435887Z"
    },
    "scrolled": false
   },
   "outputs": [],
   "source": [
    "coord_alph_by_pair = {\n",
    "                   ('Co','O'): {4:.1,5:.1,6:.1},\n",
    "                   ('Fe','O'): {4:.1,5:.1,6:.1},\n",
    "                   ('V','O'):  {4:.1,5:.1,6:.1},\n",
    "                   ('Cu','O'): {4:.1,5:.1,6:.1},\n",
    "                   ('Ni','O'): {4:.1,5:.1,6:.1},\n",
    "                   ('Cr','O'): {4:.1,5:.1,6:.1},\n",
    "                   ('Mn','O'): {4:.1,5:.1,6:.1},\n",
    "                   ('Ti','O'): {4:.1,5:.1,6:.1}}\n",
    "\n",
    "\n",
    "lc_by_pair = {pair:[] for pair in target_elements_groups}\n",
    "\n",
    "\n",
    "    \n",
    "coord_fig = plt.figure(figsize=(18,12),constrained_layout = True,dpi=450)\n",
    "gs = coord_fig.add_gridspec(2,4)\n",
    "\n",
    "ax1 = coord_fig.add_subplot(gs[0,0])\n",
    "ax2 = coord_fig.add_subplot(gs[0,1])\n",
    "ax3 = coord_fig.add_subplot(gs[0,2])\n",
    "ax4 = coord_fig.add_subplot(gs[0,3])\n",
    "ax5 = coord_fig.add_subplot(gs[1,0])\n",
    "ax6 = coord_fig.add_subplot(gs[1,1])\n",
    "ax7 = coord_fig.add_subplot(gs[1,2])\n",
    "ax8 = coord_fig.add_subplot(gs[1,3])\n",
    "\n",
    "all_axes = [ax1,ax2,ax3,ax4,ax5,ax6,ax7,ax8]\n",
    "\n",
    "for i, pairdat in enumerate(data_by_pair.items()):\n",
    "    pair = pairdat[0]\n",
    "    data = pairdat[1]\n",
    "    ax = all_axes[i]\n",
    "    \n",
    "    relevant_coordination = [6,5,4]\n",
    "    coord_count = {coord:0 for coord in relevant_coordination}\n",
    "    \n",
    "    filtered_by_coords =[dat for dat in data if dat['coordination'] in relevant_coordination]\n",
    "    cur_spectra =[XAS_Spectrum(dat['E'],dat['mu']) for dat in filtered_by_coords]\n",
    "    for i, dat in enumerate(filtered_by_coords):\n",
    "        cur_spectra[i].coord = dat['coordination'] \n",
    "    for spec in cur_spectra:\n",
    "        spec.normalize('max')\n",
    "        \n",
    "    print(pair,len(filtered_by_coords))\n",
    "    for dat in filtered_by_coords:\n",
    "        coord_count[dat['coordination']] += 1\n",
    "    \n",
    "    # 4: Orange\n",
    "    # 5: Olive\n",
    "    # 6: Blue\n",
    "    color_mapper={4:np.array((245,130,48))/255,\n",
    "                   5:\"seagreen\",\n",
    "                   6:np.array((0,0,128))/255}\n",
    "    \n",
    "    min_x = np.min([np.min(spec.x) for spec in cur_spectra])\n",
    "    max_x = np.max([np.max(spec.x) for spec in cur_spectra])\n",
    "    for coord in [6,5,4]:\n",
    "        lines = [np.column_stack([spec.x,spec.y+1*(coord-4)]) for spec in cur_spectra\n",
    "                if spec.coord == coord]\n",
    "        color_array = [color_mapper[coord]]*len(lines)\n",
    "        alpha = coord_alph_by_pair[pair][coord]\n",
    "        lc = LineCollection(lines,colors=color_array,\n",
    "                           alpha = alpha)\n",
    "        ax.add_collection(lc)\n",
    "    \n",
    "    #ax.ylabel(\"$\\mu (E)$\")\n",
    "    ax.set_ylim(-.05,1.05+1*2)\n",
    "    ax.set_xlim(min_x,max_x)\n",
    "\n",
    "    #ax.xlabel(\"Energy\")\n",
    "    ax.set_title(\"{} Coord. N= {}\".format(pair[0],len(filtered_by_coords)),color='Black')\n",
    "plt.show()"
   ]
  },
  {
   "cell_type": "code",
   "execution_count": null,
   "metadata": {
    "ExecuteTime": {
     "end_time": "2019-08-20T02:12:47.538345Z",
     "start_time": "2019-08-20T02:10:36.371010Z"
    },
    "scrolled": false
   },
   "outputs": [],
   "source": [
    "coord_alph_by_pair = {\n",
    "                   ('Co','O'): {4:.1,5:.1,6:.1},\n",
    "                   ('Fe','O'): {4:.1,5:.1,6:.1},\n",
    "                   ('V','O'):  {4:.1,5:.1,6:.1},\n",
    "                   ('Cu','O'): {4:.1,5:.1,6:.1},\n",
    "                   ('Ni','O'): {4:.1,5:.1,6:.1},\n",
    "                   ('Cr','O'): {4:.1,5:.1,6:.1},\n",
    "                   ('Mn','O'): {4:.1,5:.1,6:.1},\n",
    "                   ('Ti','O'): {4:.1,5:.1,6:.1}}\n",
    "\n",
    "\n",
    "lc_by_pair = {pair:[] for pair in target_elements_groups}\n",
    "    \n",
    "bader_fig = plt.figure(figsize=(20,12),constrained_layout = True,dpi=450)\n",
    "gs = bader_fig.add_gridspec(2,4)\n",
    "\n",
    "ax1 = bader_fig.add_subplot(gs[0,0])\n",
    "ax2 = bader_fig.add_subplot(gs[0,1])\n",
    "ax3 = bader_fig.add_subplot(gs[0,2])\n",
    "ax4 = bader_fig.add_subplot(gs[0,3])\n",
    "ax5 = bader_fig.add_subplot(gs[1,0])\n",
    "ax6 = bader_fig.add_subplot(gs[1,1])\n",
    "ax7 = bader_fig.add_subplot(gs[1,2])\n",
    "ax8 = bader_fig.add_subplot(gs[1,3])\n",
    "\n",
    "all_axes = [ax1,ax2,ax3,ax4,ax5,ax6,ax7,ax8]\n",
    "\n",
    "for i, pairdat in enumerate(data_by_pair.items()):\n",
    "    pair = pairdat[0]\n",
    "    data = pairdat[1]\n",
    "    ax = all_axes[i]\n",
    "    \n",
    "    filtered_by_bader =[dat for dat in data if dat['bader']]\n",
    "    cur_spectra =[XAS_Spectrum(dat['E'],dat['mu']) for dat in filtered_by_bader]\n",
    "    for i, dat in enumerate(filtered_by_bader):\n",
    "        cur_spectra[i].bader = dat['bader'] \n",
    "    for spec in cur_spectra:\n",
    "        spec.normalize('max')\n",
    "        \n",
    "    print(pair,len(filtered_by_bader))\n",
    "    \n",
    "    spec_map = plt.cm.get_cmap('Spectral')\n",
    "    min_x = np.min([np.min(spec.x) for spec in cur_spectra])\n",
    "    max_x = np.max([np.max(spec.x) for spec in cur_spectra])\n",
    "    \n",
    "    min_bader = np.min([spec.bader for spec in cur_spectra])\n",
    "    max_bader = np.max([spec.bader for spec in cur_spectra])\n",
    "    \n",
    "    norm = matplotlib.colors.Normalize(vmin = min_bader, vmax = max_bader)\n",
    "\n",
    "    \n",
    "    lines = [np.column_stack([spec.x,spec.y]) for spec in cur_spectra]\n",
    "    color_array = [spec_map(norm(spec.bader)) for spec in cur_spectra]\n",
    "\n",
    "    lc = LineCollection(lines,colors=color_array,\n",
    "                       alpha = .1)\n",
    "    ax.add_collection(lc)\n",
    "    \n",
    "    #ax.ylabel(\"$\\mu (E)$\")\n",
    "    ax.set_ylim(-.05,1)\n",
    "    ax.set_xlim(min_x,max_x)\n",
    "\n",
    "    #ax.xlabel(\"Energy\")\n",
    "    ax.set_title(\"{} Bader Chgs, N = {}\".format(pair[0],len(filtered_by_bader)),color='black')\n",
    "plt.show()"
   ]
  },
  {
   "cell_type": "code",
   "execution_count": null,
   "metadata": {},
   "outputs": [],
   "source": []
  },
  {
   "cell_type": "code",
   "execution_count": null,
   "metadata": {},
   "outputs": [],
   "source": []
  }
 ],
 "metadata": {
  "kernelspec": {
   "display_name": "Python 3",
   "language": "python",
   "name": "python3"
  },
  "language_info": {
   "codemirror_mode": {
    "name": "ipython",
    "version": 3
   },
   "file_extension": ".py",
   "mimetype": "text/x-python",
   "name": "python",
   "nbconvert_exporter": "python",
   "pygments_lexer": "ipython3",
   "version": "3.6.8"
  }
 },
 "nbformat": 4,
 "nbformat_minor": 2
}
